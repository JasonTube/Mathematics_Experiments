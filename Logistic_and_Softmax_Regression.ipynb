{
 "cells": [
  {
   "cell_type": "markdown",
   "metadata": {},
   "source": [
    "# Logistic回归与Softmax回归"
   ]
  },
  {
   "cell_type": "code",
   "execution_count": 6,
   "metadata": {},
   "outputs": [],
   "source": [
    "import numpy as np\n",
    "import matplotlib.pyplot as plt\n",
    "%matplotlib inline"
   ]
  },
  {
   "cell_type": "markdown",
   "metadata": {},
   "source": [
    "## 数据准备"
   ]
  },
  {
   "cell_type": "code",
   "execution_count": 7,
   "metadata": {},
   "outputs": [],
   "source": [
    "import itertools\n",
    "import functools\n",
    "\n",
    "class PolynomialFeature(object):\n",
    "    \"\"\"Polynomial features\n",
    "\n",
    "    transforms input array with polynomial features\n",
    "\n",
    "    Example 1\n",
    "    =========\n",
    "    x = [a, b]\n",
    "\n",
    "    y = PolynomialFeature(degree=5).transform(x)\n",
    "    y = [[1, a, a^2, a^3, a^4, a^5],\n",
    "         [1, b, b^2, b^3, b^4, b^5]]\n",
    "\n",
    "    Example 1\n",
    "    =========\n",
    "    x = [[a, b],\n",
    "         [c, d]]\n",
    "\n",
    "    y = PolynomialFeature(degree=2).transform(x)\n",
    "    y = [[1, a, b, a^2, a*b, b^2],\n",
    "         [1, c, d, c^2, c*d, d^2]]\n",
    "    \"\"\"\n",
    "    def __init__(self, degree=2):\n",
    "        \"\"\"Construct polynomial features\n",
    "        \n",
    "        Params\n",
    "        ======\n",
    "        degree: int\n",
    "          degree of polynomial\n",
    "        \"\"\"\n",
    "        if not isinstance(degree, int):\n",
    "            raise ValueError(\"degree should be int type\")\n",
    "        self.degree = degree\n",
    "\n",
    "    def transform(self, x):\n",
    "        \"\"\"Transforms input array with polynomial features\n",
    "\n",
    "        Params\n",
    "        ======\n",
    "        x: ndarray with shape (N, D)\n",
    "           input array\n",
    "\n",
    "        Returns\n",
    "        =======\n",
    "        output: ndarray with shape (N, K+1)\n",
    "           polynomial features\n",
    "        \"\"\"\n",
    "        if x.ndim == 1:\n",
    "            x = x[:, None]\n",
    "        x_t = x.transpose()\n",
    "        features = [np.ones(len(x))]\n",
    "        for degree in range(1, self.degree+1):\n",
    "            for items in itertools.combinations_with_replacement(x_t, degree):\n",
    "                features.append(functools.reduce(lambda x, y: x * y, items))\n",
    "        return np.array(features).transpose()"
   ]
  },
  {
   "cell_type": "code",
   "execution_count": 8,
   "metadata": {},
   "outputs": [],
   "source": [
    "def create_toy_data(add_outliers=False, add_class=False):\n",
    "    x0 = np.random.normal(size=50).reshape(-1, 2) - 1\n",
    "    x1 = np.random.normal(size=50).reshape(-1, 2) + 1\n",
    "    if add_outliers:\n",
    "        x2 = np.random.normal(size=10).reshape(-1, 2) + np.array([6., 3.])\n",
    "        return np.concatenate([x0, x1, x2]), np.concatenate([np.zeros(25), np.ones(30)]).astype(np.int)\n",
    "    if add_class:\n",
    "        x2 = np.random.normal(size=50).reshape(-1, 2) + 3.\n",
    "        return np.concatenate([x0, x1, x2]), np.concatenate([np.zeros(25), np.ones(25), np.zeros(25)+2]).astype(np.int)\n",
    "    return np.concatenate([x0, x1]), np.concatenate([np.zeros(25), np.ones(25)]).astype(np.int)"
   ]
  },
  {
   "cell_type": "code",
   "execution_count": 9,
   "metadata": {},
   "outputs": [
    {
     "data": {
      "text/plain": [
       "<matplotlib.collections.PathCollection at 0x11b71a790>"
      ]
     },
     "execution_count": 9,
     "metadata": {},
     "output_type": "execute_result"
    },
    {
     "data": {
      "image/png": "[encoded data removed]",
      "text/plain": [
       "<Figure size 432x288 with 1 Axes>"
      ]
     },
     "metadata": {
      "needs_background": "light"
     },
     "output_type": "display_data"
    }
   ],
   "source": [
    "x_train, y_train = create_toy_data()\n",
    "plt.scatter(x_train[:, 0], x_train[:, 1], c=y_train)"
   ]
  },
  {
   "cell_type": "markdown",
   "metadata": {},
   "source": [
    "## Logistic回归"
   ]
  },
  {
   "cell_type": "markdown",
   "metadata": {},
   "source": [
    "$$\n",
    "\\nabla E(\\vec w) = \\vec Z^T(\\vec y-\\vec t)\n",
    "$$\n",
    "$$\n",
    "\\mathbf H = \\mathbf Z^T \\mathbf R \\mathbf Z, \\quad \\mathbf R =(y_1(1-y_1),\\cdots,y_N(1-y_N)\n",
    "$$\n",
    "$$\n",
    "\\vec w^{new} = \\vec w^{old}-\\mathbf H^{-1} \\nabla E(\\vec w)\n",
    "$$\n",
    "$$\n",
    "\\delta \\vec w =\\mathbf H^{-1} \\nabla E(\\vec w)\n",
    "$$\n",
    "$$\n",
    "\\mathbf H \\delta \\vec w=\\nabla E(\\vec w)\n",
    "$$"
   ]
  },
  {
   "cell_type": "code",
   "execution_count": 13,
   "metadata": {},
   "outputs": [],
   "source": [
    "class LogisticRegression(object):\n",
    "    \"\"\"\n",
    "    Logistic regression model\n",
    "\n",
    "    y = sigmoid(X @ w)\n",
    "    t ~ Bernoulli(t|y)\n",
    "    \"\"\"\n",
    "\n",
    "    @staticmethod 静态方法\n",
    "    def _sigmoid(a):\n",
    "        return np.tanh(a * 0.5) * 0.5 + 0.5\n",
    "\n",
    "    def fit(self, X, t, max_iter=100):\n",
    "        \"\"\"\n",
    "        maximum likelihood estimation of logistic regression model\n",
    "\n",
    "        Parameters\n",
    "        ----------\n",
    "        X : (N, D) np.ndarray\n",
    "            training data independent variable\n",
    "        t : (N,) np.ndarray\n",
    "            training data dependent variable\n",
    "            binary 0 or 1\n",
    "        max_iter : int, optional\n",
    "            maximum number of paramter update iteration (the default is 100)\n",
    "        \"\"\"\n",
    "        w = np.zeros(np.size(X, 1))\n",
    "        for _ in range(max_iter):\n",
    "            w_prev = np.copy(w)\n",
    "            y = self._sigmoid(X @ w)\n",
    "            grad = X.T @ (y - t)\n",
    "            hessian = (X.T * y * (1 - y)) @ X\n",
    "            try:\n",
    "                w -= np.linalg.solve(hessian, grad)\n",
    "            except np.linalg.LinAlgError:\n",
    "                break\n",
    "            if np.allclose(w, w_prev):\n",
    "                break\n",
    "        self.w = w\n",
    "\n",
    "    def proba(self, X):\n",
    "        \"\"\"\n",
    "        compute probability of input belonging class 1\n",
    "\n",
    "        Parameters\n",
    "        ----------\n",
    "        X : (N, D) np.ndarray\n",
    "            training data independent variable\n",
    "\n",
    "        Returns\n",
    "        -------\n",
    "        (N,) np.ndarray\n",
    "            probability of positive\n",
    "        \"\"\"\n",
    "        return self._sigmoid(X @ self.w)\n",
    "\n",
    "    def classify(self, X, threshold=0.5):\n",
    "        \"\"\"\n",
    "        classify input data\n",
    "\n",
    "        Parameters\n",
    "        ----------\n",
    "        X : (N, D) np.ndarray\n",
    "            independent variable to be classified\n",
    "        threshold : float, optional\n",
    "            threshold of binary classification (default is 0.5)\n",
    "\n",
    "        Returns\n",
    "        -------\n",
    "        (N,) np.ndarray\n",
    "            binary class for each input\n",
    "        \"\"\"\n",
    "        return (self.proba(X) > threshold).astype(np.int)\n"
   ]
  },
  {
   "cell_type": "code",
   "execution_count": 14,
   "metadata": {},
   "outputs": [
    {
     "data": {
      "image/png": "[encoded data removed]",
      "text/plain": [
       "<Figure size 432x288 with 2 Axes>"
      ]
     },
     "metadata": {
      "needs_background": "light"
     },
     "output_type": "display_data"
    }
   ],
   "source": [
    "x_train, y_train = create_toy_data()\n",
    "x1_test, x2_test = np.meshgrid(np.linspace(-5, 5, 100), np.linspace(-5, 5, 100))\n",
    "x_test = np.array([x1_test, x2_test]).reshape(2, -1).T\n",
    "\n",
    "feature = PolynomialFeature(degree=1)\n",
    "X_train = feature.transform(x_train)\n",
    "X_test = feature.transform(x_test)\n",
    "\n",
    "model = LogisticRegression()\n",
    "model.fit(X_train, y_train)\n",
    "y = model.proba(X_test)\n",
    "\n",
    "plt.scatter(x_train[:, 0], x_train[:, 1], c=y_train)\n",
    "plt.contourf(x1_test, x2_test, y.reshape(100, 100), np.linspace(0, 1, 5), alpha=0.2)\n",
    "plt.colorbar()\n",
    "plt.xlim(-5, 5)\n",
    "plt.ylim(-5, 5)\n",
    "plt.gca().set_aspect('equal', adjustable='box')\n",
    "plt.show()"
   ]
  },
  {
   "cell_type": "markdown",
   "metadata": {},
   "source": [
    "## Softmax回归"
   ]
  },
  {
   "cell_type": "code",
   "execution_count": 18,
   "metadata": {},
   "outputs": [],
   "source": [
    "class LabelTransformer(object):\n",
    "    \"\"\"label encoder decoder\n",
    "    \n",
    "    Attr\n",
    "    ====\n",
    "    n_classes: int\n",
    "        number of classes\n",
    "    \"\"\"\n",
    "    def __init__(self, n_classes=None):\n",
    "        self.n_classes = n_classes\n",
    "\n",
    "    @property\n",
    "    def n_classes(self):\n",
    "        return self.__n_classes\n",
    "\n",
    "    @n_classes.setter\n",
    "    def n_classes(self, K):\n",
    "        self.__n_classes = K\n",
    "        self.__encoder = None if K is None else np.eye(K)\n",
    "\n",
    "    @property\n",
    "    def encoder(self):\n",
    "        return self.__encoder\n",
    "\n",
    "    def encode(self, class_indices):\n",
    "        \"\"\"encode class index into one-of-k code\n",
    "        \n",
    "        Params\n",
    "        ======\n",
    "        class_indices: ndarray with shape (N,)\n",
    "            non-negative class index\n",
    "            elements must be integer in [0, n_classes)\n",
    "        \n",
    "        Returns\n",
    "        =======\n",
    "        output: ndarrray with shape (N, K)\n",
    "            one-of-k encoding of input\n",
    "        \"\"\"\n",
    "        if self.n_classes is None:\n",
    "            self.n_classes = np.max(class_indices) + 1\n",
    "\n",
    "        return self.encoder[class_indices]\n",
    "\n",
    "    def decode(self, onehot):\n",
    "        \"\"\" decode one-of-k code into class index\n",
    "        \n",
    "        Params\n",
    "        ======\n",
    "        onehot: ndarray with shape (N, K)\n",
    "            one-of-k code\n",
    "        \n",
    "        Returns\n",
    "        =======\n",
    "        output: ndarray with shape (N,)\n",
    "            class index\n",
    "        \"\"\"\n",
    "        return np.argmax(onehot, axis=1)"
   ]
  },
  {
   "cell_type": "code",
   "execution_count": 19,
   "metadata": {},
   "outputs": [],
   "source": [
    "class SoftmaxRegression(object):\n",
    "    \"\"\"\n",
    "    Softmax regression model\n",
    "    aka\n",
    "    multinomial logistic regression,\n",
    "    multiclass logistic regression,\n",
    "    maximum entropy classifier.\n",
    "\n",
    "    y = softmax(X @ W)\n",
    "    t ~ Categorical(t|y)\n",
    "    \"\"\"\n",
    "\n",
    "    @staticmethod\n",
    "    def _softmax(a):\n",
    "        a_max = np.max(a, axis=-1, keepdims=True)\n",
    "        exp_a = np.exp(a - a_max)\n",
    "        return exp_a / np.sum(exp_a, axis=-1, keepdims=True)\n",
    "\n",
    "    def fit(self, X, t, max_iter=100, learning_rate=0.1):\n",
    "        \"\"\"\n",
    "        maximum likelihood estimation of the parameter\n",
    "\n",
    "        Parameters\n",
    "        ----------\n",
    "        X : (N, D) np.ndarray\n",
    "            training independent variable\n",
    "        t : (N,) or (N, K) np.ndarray\n",
    "            training dependent variable\n",
    "            in class index or one-of-k encoding\n",
    "        max_iter : int, optional\n",
    "            maximum number of iteration (the default is 100)\n",
    "        learning_rate : float, optional\n",
    "            learning rate of gradient descent (the default is 0.1)\n",
    "        \"\"\"\n",
    "        if t.ndim == 1:\n",
    "            t = LabelTransformer().encode(t)\n",
    "        self.n_classes = np.size(t, 1)\n",
    "        W = np.zeros((np.size(X, 1), self.n_classes))\n",
    "        for _ in range(max_iter):\n",
    "            W_prev = np.copy(W)\n",
    "            y = self._softmax(X @ W)\n",
    "            grad = X.T @ (y - t)\n",
    "            W -= learning_rate * grad\n",
    "            if np.allclose(W, W_prev):\n",
    "                break\n",
    "        self.W = W\n",
    "\n",
    "    def proba(self, X:np.ndarray):\n",
    "        \"\"\"\n",
    "        compute probability of input belonging each class\n",
    "\n",
    "        Parameters\n",
    "        ----------\n",
    "        X : (N, D) np.ndarray\n",
    "            independent variable\n",
    "\n",
    "        Returns\n",
    "        -------\n",
    "        (N, K) np.ndarray\n",
    "            probability of each class\n",
    "        \"\"\"\n",
    "        return self._softmax(X @ self.W)\n",
    "\n",
    "    def classify(self, X:np.ndarray):\n",
    "        \"\"\"\n",
    "        classify input data\n",
    "\n",
    "        Parameters\n",
    "        ----------\n",
    "        X : (N, D) np.ndarray\n",
    "            independent variable to be classified\n",
    "\n",
    "        Returns\n",
    "        -------\n",
    "        (N,) np.ndarray\n",
    "            class index for each input\n",
    "        \"\"\"\n",
    "        return np.argmax(self.proba(X), axis=-1)\n"
   ]
  },
  {
   "cell_type": "code",
   "execution_count": 20,
   "metadata": {},
   "outputs": [
    {
     "data": {
      "image/png": "[encoded data removed]",
      "text/plain": [
       "<Figure size 432x288 with 1 Axes>"
      ]
     },
     "metadata": {
      "needs_background": "light"
     },
     "output_type": "display_data"
    }
   ],
   "source": [
    "x_train, y_train = create_toy_data(add_class=True)\n",
    "x1, x2 = np.meshgrid(np.linspace(-5, 10, 100), np.linspace(-5, 10, 100))\n",
    "x = np.array([x1, x2]).reshape(2, -1).T\n",
    "\n",
    "feature = PolynomialFeature(1)\n",
    "X_train = feature.transform(x_train)\n",
    "X = feature.transform(x)\n",
    "\n",
    "model = SoftmaxRegression()\n",
    "model.fit(X_train, y_train, max_iter=1000, learning_rate=0.01)\n",
    "y = model.classify(X)\n",
    "\n",
    "plt.scatter(x_train[:, 0], x_train[:, 1], c=y_train)\n",
    "plt.contourf(x1, x2, y.reshape(100, 100), alpha=0.2, levels=np.array([0., 0.5, 1.5, 2.]))\n",
    "plt.xlim(-5, 10)\n",
    "plt.ylim(-5, 10)\n",
    "plt.gca().set_aspect('equal', adjustable='box')\n",
    "plt.show()"
   ]
  }
 ],
 "metadata": {
  "kernelspec": {
   "display_name": "Python 3",
   "language": "python",
   "name": "python3"
  },
  "language_info": {
   "codemirror_mode": {
    "name": "ipython",
    "version": 3
   },
   "file_extension": ".py",
   "mimetype": "text/x-python",
   "name": "python",
   "nbconvert_exporter": "python",
   "pygments_lexer": "ipython3",
   "version": "3.7.2"
  }
 },
 "nbformat": 4,
 "nbformat_minor": 2
}
