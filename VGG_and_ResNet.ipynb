{
 "cells": [
  {
   "cell_type": "code",
   "execution_count": 1,
   "metadata": {},
   "outputs": [],
   "source": [
    "import torch\n",
    "import torch.nn as nn\n",
    "import torch.optim as optim\n",
    "import numpy as np\n",
    "import matplotlib.pyplot as plt\n",
    "import shutil"
   ]
  },
  {
   "cell_type": "code",
   "execution_count": 2,
   "metadata": {},
   "outputs": [],
   "source": [
    "from torchvision import datasets"
   ]
  },
  {
   "cell_type": "markdown",
   "metadata": {},
   "source": [
    "# VGG"
   ]
  },
  {
   "cell_type": "markdown",
   "metadata": {},
   "source": [
    "<img src='images/miniVGG.png'>"
   ]
  },
  {
   "cell_type": "code",
   "execution_count": 3,
   "metadata": {},
   "outputs": [],
   "source": [
    "class ConvBlock(nn.Sequential):\n",
    "    def __init__(self, in_channels, out_channels, pool=True, drop_rate=0.):\n",
    "        super().__init__()\n",
    "        # 模块：二维卷积\n",
    "        self.add_module('conv', nn.Conv2d(in_channels, out_channels,\n",
    "                                          kernel_size=3, padding=1, bias=True))\n",
    "        # 模块：激活函数\n",
    "        self.add_module('relu', nn.ReLU(inplace=True))\n",
    "        # 模块：Normalization\n",
    "        self.add_module('norm', nn.BatchNorm2d(out_channels))\n",
    "        # 模块：池化层\n",
    "        if pool:\n",
    "            self.add_module('pool', nn.MaxPool2d(kernel_size=2))\n",
    "        if drop_rate > 0:\n",
    "            self.add_module('dropout', nn.Dropout(p=drop_rate)) \n",
    "    # 可写可不写：\n",
    "    def forward(self, x):\n",
    "        return super().forward(x)"
   ]
  },
  {
   "cell_type": "code",
   "execution_count": 4,
   "metadata": {},
   "outputs": [
    {
     "name": "stdout",
     "output_type": "stream",
     "text": [
      "ConvBlock(\n",
      "  (conv): Conv2d(3, 32, kernel_size=(3, 3), stride=(1, 1), padding=(1, 1))\n",
      "  (relu): ReLU(inplace=True)\n",
      "  (norm): BatchNorm2d(32, eps=1e-05, momentum=0.1, affine=True, track_running_stats=True)\n",
      "  (pool): MaxPool2d(kernel_size=2, stride=2, padding=0, dilation=1, ceil_mode=False)\n",
      ")\n",
      "torch.Size([5, 3, 32, 32]) torch.Size([5, 32, 16, 16])\n"
     ]
    }
   ],
   "source": [
    "# 验证\n",
    "conv_block = ConvBlock(3,32)\n",
    "print(conv_block)\n",
    "x = torch.randn(5,3,32,32)\n",
    "y = conv_block(x)\n",
    "print(x.shape,y.shape)"
   ]
  },
  {
   "cell_type": "code",
   "execution_count": 5,
   "metadata": {},
   "outputs": [],
   "source": [
    "class FCBlock(nn.Sequential):\n",
    "    def __init__(self, dim_in, dim_out, drop_rate=0.):\n",
    "        super().__init__()\n",
    "        self.add_module('fc', nn.Linear(dim_in, dim_out))\n",
    "        self.add_module('relu', nn.ReLU(inplace=True))\n",
    "        self.add_module('norm', nn.BatchNorm1d(dim_out))\n",
    "        if drop_rate > 0:\n",
    "            self.add_module('dropout', nn.Dropout(p=drop_rate))\n",
    "            \n",
    "    def forward(self, x):\n",
    "        return super().forward(x)"
   ]
  },
  {
   "cell_type": "code",
   "execution_count": 6,
   "metadata": {},
   "outputs": [
    {
     "name": "stdout",
     "output_type": "stream",
     "text": [
      "FCBlock(\n",
      "  (fc): Linear(in_features=400, out_features=5, bias=True)\n",
      "  (relu): ReLU(inplace=True)\n",
      "  (norm): BatchNorm1d(5, eps=1e-05, momentum=0.1, affine=True, track_running_stats=True)\n",
      ")\n",
      "torch.Size([5, 400]) torch.Size([5, 5])\n"
     ]
    }
   ],
   "source": [
    "fc_block = FCBlock(400,5)\n",
    "print(fc_block)\n",
    "x = torch.randn(5,400)\n",
    "y = fc_block(x)\n",
    "print(x.shape,y.shape)"
   ]
  },
  {
   "cell_type": "code",
   "execution_count": 7,
   "metadata": {},
   "outputs": [],
   "source": [
    "class MiniVGG(nn.Module):\n",
    "    def __init__(self, drop_rate=0.):\n",
    "        super().__init__()\n",
    "        self.conv = nn.Sequential()\n",
    "        self.conv.add_module('block1', ConvBlock(3,  32,\n",
    "                                                 pool=False))\n",
    "        self.conv.add_module('block2', ConvBlock(32, 32,\n",
    "                                                 pool=True,  drop_rate=drop_rate))\n",
    "        self.conv.add_module('block3', ConvBlock(32, 64,\n",
    "                                                 pool=False))\n",
    "        self.conv.add_module('block4', ConvBlock(64, 64,\n",
    "                                                 pool=True, drop_rate=drop_rate))\n",
    "\n",
    "        self.fc = nn.Sequential()\n",
    "        self.fc.add_module('fc_block', FCBlock(4096, 512, drop_rate=drop_rate))\n",
    "        self.fc.add_module('last_layer', nn.Linear(512, 10))\n",
    "\n",
    "    @property\n",
    "    def model_size(self):\n",
    "        n_params = 0\n",
    "        for param in self.parameters():\n",
    "            n_params += param.numel()\n",
    "        return n_params\n",
    "            \n",
    "    def forward(self, x):\n",
    "        x = self.conv(x)\n",
    "        x = x.view(-1, 4096)\n",
    "        out = self.fc(x)\n",
    "        return out\n",
    "\n",
    "    def forward_test(self, x):\n",
    "        print(f\"{'input':<15}: {str(x.data.shape):>20}\")\n",
    "        for name, module in self.conv._modules.items():\n",
    "            x = module(x)\n",
    "            print(f\"{name:<15}: {str(x.data.shape):>20}\")\n",
    "        x = x.view(-1, 4096)\n",
    "        for name, module in self.fc._modules.items():\n",
    "            x = module(x)\n",
    "            print(f\"{name:<15}: {str(x.data.shape):>20}\")\n"
   ]
  },
  {
   "cell_type": "code",
   "execution_count": 8,
   "metadata": {},
   "outputs": [
    {
     "name": "stdout",
     "output_type": "stream",
     "text": [
      "2169770\n",
      "8.277015686035156 MB\n"
     ]
    }
   ],
   "source": [
    "vgg = MiniVGG()\n",
    "print(vgg.model_size)\n",
    "print(f'{vgg.model_size * 4 / 1024**2} MB')"
   ]
  },
  {
   "cell_type": "code",
   "execution_count": 9,
   "metadata": {},
   "outputs": [
    {
     "name": "stdout",
     "output_type": "stream",
     "text": [
      "input          : torch.Size([5, 3, 32, 32])\n",
      "block1         : torch.Size([5, 32, 32, 32])\n",
      "block2         : torch.Size([5, 32, 16, 16])\n",
      "block3         : torch.Size([5, 64, 16, 16])\n",
      "block4         : torch.Size([5, 64, 8, 8])\n",
      "fc_block       : torch.Size([5, 512])\n",
      "last_layer     :  torch.Size([5, 10])\n"
     ]
    }
   ],
   "source": [
    "x = torch.randn(5, 3, 32, 32)\n",
    "y = vgg.forward_test(x)"
   ]
  },
  {
   "cell_type": "markdown",
   "metadata": {},
   "source": [
    "# ResNet"
   ]
  },
  {
   "cell_type": "markdown",
   "metadata": {},
   "source": [
    "<img src='images/resnet18.png'>"
   ]
  },
  {
   "cell_type": "markdown",
   "metadata": {},
   "source": [
    "<img src='images/resblock.png'>"
   ]
  },
  {
   "cell_type": "code",
   "execution_count": 10,
   "metadata": {},
   "outputs": [],
   "source": [
    "import torch.nn.functional as F"
   ]
  },
  {
   "cell_type": "code",
   "execution_count": 11,
   "metadata": {},
   "outputs": [],
   "source": [
    "class ResidualBlock(nn.Module):\n",
    "    \"\"\"ResidualBlock\"\"\"\n",
    "    expansion = 1\n",
    "    def __init__(self, in_channel, out_channel, stride=1):\n",
    "        super().__init__()\n",
    "        self.conv = nn.Sequential(nn.Conv2d(in_channel, out_channel, kernel_size=3, stride=stride, padding=1, bias=False),\n",
    "                                  nn.BatchNorm2d(out_channel),\n",
    "                                  nn.ReLU(inplace=True),\n",
    "                                  nn.Conv2d(out_channel, out_channel, kernel_size=3, stride=1, padding=1, bias=False),\n",
    "                                  nn.BatchNorm2d(out_channel))\n",
    "        self.shortcut = nn.Sequential()\n",
    "        if in_channel != out_channel:\n",
    "            self.shortcut = nn.Sequential(nn.Conv2d(in_channel, out_channel, kernel_size=1, stride=stride, bias=False),\n",
    "                                          nn.BatchNorm2d(out_channel))\n",
    "    def forward(self, x):\n",
    "        identity = self.shortcut(x)\n",
    "        out = self.conv(x)        \n",
    "        out += identity\n",
    "        out = F.relu(out)\n",
    "        return out"
   ]
  },
  {
   "cell_type": "code",
   "execution_count": 12,
   "metadata": {},
   "outputs": [
    {
     "name": "stdout",
     "output_type": "stream",
     "text": [
      "ResidualBlock(\n",
      "  (conv): Sequential(\n",
      "    (0): Conv2d(4, 64, kernel_size=(3, 3), stride=(2, 2), padding=(1, 1), bias=False)\n",
      "    (1): BatchNorm2d(64, eps=1e-05, momentum=0.1, affine=True, track_running_stats=True)\n",
      "    (2): ReLU(inplace=True)\n",
      "    (3): Conv2d(64, 64, kernel_size=(3, 3), stride=(1, 1), padding=(1, 1), bias=False)\n",
      "    (4): BatchNorm2d(64, eps=1e-05, momentum=0.1, affine=True, track_running_stats=True)\n",
      "  )\n",
      "  (shortcut): Sequential(\n",
      "    (0): Conv2d(4, 64, kernel_size=(1, 1), stride=(2, 2), bias=False)\n",
      "    (1): BatchNorm2d(64, eps=1e-05, momentum=0.1, affine=True, track_running_stats=True)\n",
      "  )\n",
      ")\n",
      "torch.Size([4, 4, 32, 32]) torch.Size([4, 64, 16, 16])\n"
     ]
    }
   ],
   "source": [
    "block = ResidualBlock(4, 64, 2)\n",
    "print(block)\n",
    "x = torch.randn(4, 4, 32, 32)\n",
    "y = block(x)\n",
    "print(x.shape, y.shape)"
   ]
  },
  {
   "cell_type": "code",
   "execution_count": 13,
   "metadata": {},
   "outputs": [],
   "source": [
    "class Bottleneck(nn.Module):\n",
    "    \"\"\"Bottleneck\"\"\"\n",
    "    expansion = 4\n",
    "    def __init__(self, in_channel, out_channel, stride=1):\n",
    "        super().__init__()\n",
    "        channel = out_channel // self.expansion\n",
    "        self.conv = nn.Sequential(nn.Conv2d(in_channel, channel, kernel_size=1, stride=1, padding=0, bias=False),\n",
    "                                  nn.BatchNorm2d(channel),\n",
    "                                  nn.ReLU(inplace=True),\n",
    "                                  nn.Conv2d(channel, channel, kernel_size=3, stride=stride, padding=1, bias=False),\n",
    "                                  nn.BatchNorm2d(channel),\n",
    "                                  nn.ReLU(inplace=True),\n",
    "                                  nn.Conv2d(channel, out_channel, kernel_size=1, stride=1, padding=0, bias=False),\n",
    "                                  nn.BatchNorm2d(out_channel))\n",
    "        self.shortcut = nn.Sequential()\n",
    "        if in_channel != out_channel:\n",
    "            self.shortcut = nn.Sequential(nn.Conv2d(in_channel, out_channel, kernel_size=1, stride=stride, padding=0, bias=False),\n",
    "                                          nn.BatchNorm2d(out_channel))\n",
    "    def forward(self, x):\n",
    "        identity = self.shortcut(x)\n",
    "        out = self.conv(x)\n",
    "        out += identity\n",
    "        out = F.relu(out)\n",
    "        return out"
   ]
  },
  {
   "cell_type": "code",
   "execution_count": 14,
   "metadata": {
    "scrolled": true
   },
   "outputs": [
    {
     "name": "stdout",
     "output_type": "stream",
     "text": [
      "torch.Size([4, 3, 32, 32]) torch.Size([4, 64, 16, 16])\n"
     ]
    }
   ],
   "source": [
    "block = Bottleneck(3, 64, 2)\n",
    "# print(block)\n",
    "x = torch.randn(4, 3, 32, 32)\n",
    "y = block(x)\n",
    "print(x.shape, y.shape)"
   ]
  },
  {
   "cell_type": "code",
   "execution_count": 15,
   "metadata": {},
   "outputs": [],
   "source": [
    "class ResNet(nn.Module):\n",
    "    \"\"\"ResNet\"\"\"\n",
    "    def __init__(self, block, n_classes=10):\n",
    "        super().__init__()\n",
    "        self.block = block\n",
    "        self.prev = nn.Sequential(nn.Conv2d(3, 64, kernel_size=3, stride=1, padding=1, bias=False),\n",
    "                                  nn.BatchNorm2d(64),\n",
    "                                  nn.ReLU(inplace=True))\n",
    "        \n",
    "        self.layer1 = self._make_layer(block, 64, 64, 2, stride=1)\n",
    "        self.layer2 = self._make_layer(block, 64, 128, 2, stride=2)\n",
    "        self.layer3 = self._make_layer(block, 128, 256, 2, stride=2)\n",
    "        self.layer4 = self._make_layer(block, 256, 512, 2, stride=2)\n",
    "        self.avg = nn.AvgPool2d(4)\n",
    "        self.classifier = nn.Sequential(nn.Linear(512, n_classes))\n",
    "        \n",
    "    def __repr__(self):\n",
    "        return f'{self.__doc__} with {self.block.__doc__}'\n",
    "        \n",
    "    def _make_layer(self, block, in_channel, out_channel, n_blocks, stride):\n",
    "        layers = []\n",
    "        \n",
    "        layers.append(block(in_channel, out_channel, stride=stride))\n",
    "        \n",
    "        for _ in range(1, n_blocks):\n",
    "            layers.append(block(out_channel, out_channel, stride=1))\n",
    "        return nn.Sequential(*layers)\n",
    "    \n",
    "    def forward(self, x):\n",
    "        out = self.prev(x)\n",
    "        out = self.layer1(out)\n",
    "        out = self.layer2(out)\n",
    "        out = self.layer3(out)\n",
    "        out = self.layer4(out)\n",
    "        out = self.avg(out)\n",
    "        out = out.view(out.shape[0], -1)\n",
    "        out = self.classifier(out)\n",
    "        return out     \n",
    "    \n",
    "#     def forward_test(self, x):\n",
    "#         print(f\"{'input':<20}{str(x.shape):<40}\")\n",
    "#         for name, module in self._modules.items():\n",
    "#               x = module(x)\n",
    "#               print(f\"{name:<20}{str(x.shape):<40}\")\n",
    "#         return x"
   ]
  },
  {
   "cell_type": "code",
   "execution_count": 16,
   "metadata": {},
   "outputs": [],
   "source": [
    "model = ResNet(ResidualBlock, 10)\n",
    "# print(model)"
   ]
  },
  {
   "cell_type": "code",
   "execution_count": 17,
   "metadata": {
    "scrolled": true
   },
   "outputs": [
    {
     "name": "stdout",
     "output_type": "stream",
     "text": [
      "torch.Size([1, 10])\n"
     ]
    }
   ],
   "source": [
    "x = torch.randn(1, 3, 32, 32)\n",
    "y = model(x)\n",
    "print(y.shape)"
   ]
  },
  {
   "cell_type": "markdown",
   "metadata": {},
   "source": [
    "# Dataset\n",
    "\n",
    "MNIST:如果吃力就改用手写数字识别系统"
   ]
  },
  {
   "cell_type": "code",
   "execution_count": 18,
   "metadata": {},
   "outputs": [],
   "source": [
    "import torch\n",
    "from torchvision import datasets\n",
    "import torchvision.transforms as transforms\n",
    "from torch.utils.data import DataLoader"
   ]
  },
  {
   "cell_type": "code",
   "execution_count": 19,
   "metadata": {},
   "outputs": [
    {
     "name": "stdout",
     "output_type": "stream",
     "text": [
      "Files already downloaded and verified\n",
      "Files already downloaded and verified\n"
     ]
    }
   ],
   "source": [
    "transform = transforms.Compose([transforms.ToTensor(),\n",
    "                                transforms.Normalize(mean=[0.485, 0.456, 0.406],\n",
    "                                                     std=[0.229, 0.224, 0.225])])\n",
    "trainset = datasets.CIFAR10(root='./data',\n",
    "                            train=True,\n",
    "                            download=True,\n",
    "                            transform=transform)\n",
    "trainloader = DataLoader(trainset,\n",
    "                         batch_size=4,\n",
    "                         shuffle=True,\n",
    "                         num_workers=2)\n",
    "testset = datasets.CIFAR10(root='./data',\n",
    "                           train=False,\n",
    "                           download=True,\n",
    "                           transform=transform)\n",
    "testloader = DataLoader(testset, batch_size=4, shuffle=False, num_workers=2)\n",
    "classes = ('plane', 'car', 'bird', 'cat', 'deer', 'dog', 'frog', 'horse', 'ship', 'truck')"
   ]
  },
  {
   "cell_type": "code",
   "execution_count": 20,
   "metadata": {},
   "outputs": [],
   "source": [
    "label_names = [\n",
    "    'airplane',\n",
    "    'automobile',\n",
    "    'bird',\n",
    "    'cat',\n",
    "    'deer',\n",
    "    'dog',\n",
    "    'frog',\n",
    "    'horse',\n",
    "    'ship',\n",
    "    'truck'\n",
    "]\n",
    "\n",
    "\n",
    "def plot_images(images, cls_true, cls_pred=None):\n",
    "    \"\"\"\n",
    "    Adapted from https://github.com/Hvass-Labs/TensorFlow-Tutorials/\n",
    "    \"\"\"\n",
    "    fig, axes = plt.subplots(3, 3)\n",
    "\n",
    "    for i, ax in enumerate(axes.flat):\n",
    "        # plot img\n",
    "        ax.imshow(images[i, :, :, :], interpolation='spline16')\n",
    "\n",
    "        # show true & predicted classes\n",
    "        cls_true_name = label_names[cls_true[i]]\n",
    "        if cls_pred is None:\n",
    "            xlabel = f\"{cls_true_name} ({cls_true[i]})\"\n",
    "        else:\n",
    "            cls_pred_name = label_names[cls_pred[i]]\n",
    "            xlabel = \"True: {cls_true_name}\\nPred: {cls_pred_name}\"\n",
    "        ax.set_xlabel(xlabel)\n",
    "        ax.set_xticks([])\n",
    "        ax.set_yticks([])\n",
    "\n",
    "#     plt.show()"
   ]
  },
  {
   "cell_type": "code",
   "execution_count": 21,
   "metadata": {},
   "outputs": [],
   "source": [
    "import torch\n",
    "import numpy as np\n",
    "\n",
    "from torchvision import datasets\n",
    "from torchvision import transforms\n",
    "from torch.utils.data.sampler import SubsetRandomSampler\n",
    "\n",
    "\n",
    "def get_train_valid_loader(data_dir,\n",
    "                           batch_size,\n",
    "                           random_seed,\n",
    "                           valid_ratio=0.1,\n",
    "                           shuffle=True,\n",
    "                           show_sample=False,\n",
    "                           num_workers=4,\n",
    "                           pin_memory=False):\n",
    "    \"\"\"\n",
    "    Utility function for loading and returning train and valid\n",
    "    multi-process iterators over the CIFAR-10 dataset. A sample\n",
    "    9x9 grid of the images can be optionally displayed.\n",
    "    If using CUDA, num_workers should be set to 1 and pin_memory to True.\n",
    "    \n",
    "    Params\n",
    "    ------\n",
    "    - data_dir: path directory to the dataset.\n",
    "    - batch_size: how many samples per batch to load.\n",
    "      mentioned in the paper. Only applied on the train split.\n",
    "    - random_seed: fix seed for reproducibility.\n",
    "    - valid_ratio: percentage split of the training set used for\n",
    "      the validation set. Should be a float in the range [0, 1].\n",
    "    - shuffle: whether to shuffle the train/validation indices.\n",
    "    - show_sample: plot 9x9 sample grid of the dataset.\n",
    "    - num_workers: number of subprocesses to use when loading the dataset.\n",
    "\n",
    "    Returns\n",
    "    -------\n",
    "    - train_loader: training set iterator.\n",
    "    - valid_loader: validation set iterator.\n",
    "    \"\"\"\n",
    "\n",
    "    # define transforms\n",
    "    transform = transforms.Compose([\n",
    "        transforms.ToTensor(),\n",
    "        transforms.Normalize(mean=[0.4914, 0.4822, 0.4465], std=[0.2023, 0.1994, 0.2010])\n",
    "    ])\n",
    "\n",
    "    # load the dataset\n",
    "    train_set = datasets.CIFAR10(\n",
    "        root=data_dir, train=True,\n",
    "        download=True, transform=transform,\n",
    "    )\n",
    "\n",
    "    valid_set = datasets.CIFAR10(\n",
    "        root=data_dir, train=True,\n",
    "        download=True, transform=transform,\n",
    "    )\n",
    "\n",
    "    num_train = len(train_set)\n",
    "    indices = list(range(num_train))\n",
    "    split = int(np.floor(valid_ratio * num_train))\n",
    "\n",
    "    if shuffle:\n",
    "        np.random.seed(random_seed)\n",
    "        np.random.shuffle(indices)\n",
    "\n",
    "    train_idx, valid_idx = indices[split:], indices[:split]\n",
    "    train_sampler = SubsetRandomSampler(train_idx)\n",
    "    valid_sampler = SubsetRandomSampler(valid_idx)\n",
    "\n",
    "    train_loader = torch.utils.data.DataLoader(\n",
    "        train_set, batch_size=batch_size, \n",
    "        sampler=train_sampler, num_workers=num_workers\n",
    "    )\n",
    "    valid_loader = torch.utils.data.DataLoader(\n",
    "        valid_set, batch_size=batch_size, \n",
    "        sampler=valid_sampler, num_workers=num_workers\n",
    "    )\n",
    "\n",
    "    # visualize some images\n",
    "    if show_sample:\n",
    "        sample_loader = torch.utils.data.DataLoader(\n",
    "            train_set, batch_size=9, \n",
    "            shuffle=shuffle, num_workers=num_workers\n",
    "        )\n",
    "        data_iter = iter(sample_loader)\n",
    "        images, labels = data_iter.next()        \n",
    "        X = images.numpy().transpose([0, 2, 3, 1])\n",
    "        plot_images(X, labels)\n",
    "\n",
    "    return (train_loader, valid_loader)"
   ]
  },
  {
   "cell_type": "code",
   "execution_count": 22,
   "metadata": {},
   "outputs": [
    {
     "name": "stdout",
     "output_type": "stream",
     "text": [
      "Files already downloaded and verified\n",
      "Files already downloaded and verified\n"
     ]
    },
    {
     "name": "stderr",
     "output_type": "stream",
     "text": [
      "Clipping input data to the valid range for imshow with RGB data ([0..1] for floats or [0..255] for integers).\n",
      "Clipping input data to the valid range for imshow with RGB data ([0..1] for floats or [0..255] for integers).\n",
      "Clipping input data to the valid range for imshow with RGB data ([0..1] for floats or [0..255] for integers).\n",
      "Clipping input data to the valid range for imshow with RGB data ([0..1] for floats or [0..255] for integers).\n",
      "Clipping input data to the valid range for imshow with RGB data ([0..1] for floats or [0..255] for integers).\n",
      "Clipping input data to the valid range for imshow with RGB data ([0..1] for floats or [0..255] for integers).\n",
      "Clipping input data to the valid range for imshow with RGB data ([0..1] for floats or [0..255] for integers).\n",
      "Clipping input data to the valid range for imshow with RGB data ([0..1] for floats or [0..255] for integers).\n",
      "Clipping input data to the valid range for imshow with RGB data ([0..1] for floats or [0..255] for integers).\n"
     ]
    },
    {
     "data": {
      "image/png": "[encoded data removed]",
      "text/plain": [
       "<Figure size 432x288 with 9 Axes>"
      ]
     },
     "metadata": {},
     "output_type": "display_data"
    }
   ],
   "source": [
    "train_loader, valid_loader = get_train_valid_loader('./data',\n",
    "                                                    batch_size=2,\n",
    "                                                    random_seed=123,\n",
    "                                                    valid_ratio=0.1,\n",
    "                                                    shuffle=True,\n",
    "                                                    show_sample=True,\n",
    "                                                    num_workers=0)"
   ]
  },
  {
   "cell_type": "code",
   "execution_count": 23,
   "metadata": {},
   "outputs": [],
   "source": [
    "def get_test_loader(data_dir,\n",
    "                    batch_size,\n",
    "                    shuffle=True,\n",
    "                    num_workers=0):\n",
    "    \"\"\"\n",
    "    Utility function for loading and returning a multi-process\n",
    "    test iterator over the CIFAR-10 dataset.\n",
    "    If using CUDA, num_workers should be set to 1 and pin_memory to True.\n",
    "    \n",
    "    Params\n",
    "    ------\n",
    "    - data_dir: path directory to the dataset.\n",
    "    - batch_size: how many samples per batch to load.\n",
    "    - shuffle: whether to shuffle the dataset after every epoch.\n",
    "    - num_workers: number of subprocesses to use when loading the dataset.\n",
    "    \n",
    "    Returns\n",
    "    -------\n",
    "    - data_loader: test set iterator.\n",
    "    \"\"\"\n",
    "    # define transform\n",
    "    transform = transforms.Compose([\n",
    "        transforms.ToTensor(),\n",
    "        transforms.Normalize(mean=[0.4914, 0.4822, 0.4465], std=[0.2023, 0.1994, 0.2010]),\n",
    "    ])\n",
    "\n",
    "    dataset = datasets.CIFAR10(\n",
    "        root=data_dir, train=False,\n",
    "        download=True, transform=transform,\n",
    "    )\n",
    "\n",
    "    data_loader = torch.utils.data.DataLoader(\n",
    "        dataset, batch_size=batch_size, \n",
    "        shuffle=shuffle, num_workers=num_workers\n",
    "    )\n",
    "\n",
    "    return data_loader"
   ]
  },
  {
   "cell_type": "code",
   "execution_count": 24,
   "metadata": {},
   "outputs": [
    {
     "name": "stdout",
     "output_type": "stream",
     "text": [
      "Files already downloaded and verified\n"
     ]
    }
   ],
   "source": [
    "test_loader = get_test_loader(data_dir='./data',\n",
    "                              batch_size=2,\n",
    "                              shuffle=False,\n",
    "                              num_workers=4)"
   ]
  },
  {
   "cell_type": "markdown",
   "metadata": {},
   "source": [
    "# Trainer"
   ]
  },
  {
   "cell_type": "code",
   "execution_count": 25,
   "metadata": {},
   "outputs": [],
   "source": [
    "import os "
   ]
  },
  {
   "cell_type": "code",
   "execution_count": 26,
   "metadata": {},
   "outputs": [],
   "source": [
    "def save_model(state, is_best=None, save_dir=None):\n",
    "    last_model = os.path.join(save_dir, 'last_model.pth.tar')\n",
    "    torch.save(state, last_model)\n",
    "    if is_best:\n",
    "        best_model = os.path.join(save_dir, 'best_model.pth.tar')\n",
    "        shutil.copyfile(last_model, best_model)"
   ]
  },
  {
   "cell_type": "code",
   "execution_count": 34,
   "metadata": {},
   "outputs": [],
   "source": [
    "class Trainer(object):\n",
    "    def __init__(self, args):\n",
    "        self.device  = args.device\n",
    "        \n",
    "        self.model = args.model\n",
    "        self.model_name = self.model.__class__.__name__\n",
    "        self.model_path = self._model_path()\n",
    "        \n",
    "        self.criterion = nn.CrossEntropyLoss()\n",
    "                \n",
    "        self.epochs = args.epochs\n",
    "        self.optimizer = optim.Adam(self.model.parameters(), lr=args.lr)\n",
    "        self.train_loader = args.train_loader\n",
    "        self.valid_loader = args.valid_loader\n",
    "    \n",
    "    def _model_path(self):\n",
    "        \"\"\"Path to save the model\"\"\"\n",
    "        if not os.path.exists('checkpoints'):\n",
    "            os.mkdir('checkpoints')\n",
    "\n",
    "        path = os.path.join('checkpoints', self.model_name)\n",
    "        if not os.path.exists(path):\n",
    "            os.mkdir(path)\n",
    "    \n",
    "        return path\n",
    "        \n",
    "    def train(self):\n",
    "        print('Start training ...')\n",
    "        \n",
    "        best_loss = 1.e10\n",
    "        for epoch in range(self.epochs):\n",
    "            running_loss = 0.0\n",
    "            for i, data in enumerate(self.train_loader):\n",
    "                inputs, labels = data\n",
    "            \n",
    "                self.optimizer.zero_grad()\n",
    "            \n",
    "                outputs = self.model(inputs)\n",
    "                loss = self.criterion(outputs, labels)\n",
    "                loss.backward()\n",
    "                self.optimizer.step()\n",
    "            \n",
    "                running_loss += loss.item()\n",
    "                if (i+1) % 2000 == 0:\n",
    "                    print(f\"[{epoch+1}, {i+1:5d}] loss: {running_loss / 2000: .3f}\")\n",
    "                    running_loss = 0.0   \n",
    "                    \n",
    "                valid_loss = self.valid()\n",
    "                is_best = valid_loss < best_loss\n",
    "                best_loss = valid_loss if is_best else best_loss\n",
    "                state = {'epoch': epoch, \n",
    "                        'state_dict': self.model.state_dict(),\n",
    "                        'best_loss': best_loss}\n",
    "                save_model(state, is_best, save_dir=self.model_path)                   \n",
    "        print('Finished training ...')\n",
    "        \n",
    "    def valid(self):\n",
    "        self.model.eval()\n",
    "        valid_loss = 0.0\n",
    "        for i, data in enumerate(self.valid_loader):\n",
    "            inputs, labels = data\n",
    "            outputs = self.model(inputs)\n",
    "            loss = self.criterion(outputs, labels)\n",
    "            valid_loss += loss.item()\n",
    "        return valid_loss"
   ]
  },
  {
   "cell_type": "markdown",
   "metadata": {},
   "source": [
    "# Options"
   ]
  },
  {
   "cell_type": "code",
   "execution_count": 35,
   "metadata": {},
   "outputs": [],
   "source": [
    "import argparse"
   ]
  },
  {
   "cell_type": "code",
   "execution_count": 36,
   "metadata": {},
   "outputs": [],
   "source": [
    "class Options(object):\n",
    "    def __init__(self):\n",
    "        parser = argparse.ArgumentParser()\n",
    "        parser.add_argument('--no_cuda', action='store_true', default=False, help='disable CUDA or not')\n",
    "        parser.add_argument('--lr', type=float, default=1e-3, help='initial learning rate')\n",
    "        parser.add_argument('--epochs', type=int, default=10, help='epochs for optimizer')\n",
    "        \n",
    "        self.parser = parser\n",
    "    def parse(self):\n",
    "        arg = self.parser.parse_args(args=[])\n",
    "        arg.cuda = not arg.no_cuda and torch.cuda.is_available()\n",
    "        arg.device = torch.device('cuda' if torch.cuda.is_available() else 'cpu')\n",
    "        return arg"
   ]
  },
  {
   "cell_type": "code",
   "execution_count": 39,
   "metadata": {},
   "outputs": [
    {
     "name": "stdout",
     "output_type": "stream",
     "text": [
      "Files already downloaded and verified\n",
      "Files already downloaded and verified\n"
     ]
    },
    {
     "name": "stderr",
     "output_type": "stream",
     "text": [
      "Clipping input data to the valid range for imshow with RGB data ([0..1] for floats or [0..255] for integers).\n",
      "Clipping input data to the valid range for imshow with RGB data ([0..1] for floats or [0..255] for integers).\n",
      "Clipping input data to the valid range for imshow with RGB data ([0..1] for floats or [0..255] for integers).\n",
      "Clipping input data to the valid range for imshow with RGB data ([0..1] for floats or [0..255] for integers).\n",
      "Clipping input data to the valid range for imshow with RGB data ([0..1] for floats or [0..255] for integers).\n",
      "Clipping input data to the valid range for imshow with RGB data ([0..1] for floats or [0..255] for integers).\n",
      "Clipping input data to the valid range for imshow with RGB data ([0..1] for floats or [0..255] for integers).\n",
      "Clipping input data to the valid range for imshow with RGB data ([0..1] for floats or [0..255] for integers).\n",
      "Clipping input data to the valid range for imshow with RGB data ([0..1] for floats or [0..255] for integers).\n"
     ]
    },
    {
     "data": {
      "image/png": "[encoded data removed]",
      "text/plain": [
       "<Figure size 432x288 with 9 Axes>"
      ]
     },
     "metadata": {},
     "output_type": "display_data"
    }
   ],
   "source": [
    "args = Options().parse()\n",
    "args.train_loader, args.valid_loader = get_train_valid_loader('./data',\n",
    "                                                    batch_size=2,\n",
    "                                                    random_seed=123,\n",
    "                                                    valid_ratio=0.1,\n",
    "                                                    shuffle=True,\n",
    "                                                    show_sample=True,\n",
    "                                                    num_workers=0)"
   ]
  },
  {
   "cell_type": "code",
   "execution_count": 40,
   "metadata": {},
   "outputs": [],
   "source": [
    "args.model = ResNet(ResidualBlock, 10)\n",
    "trainer = Trainer(args)"
   ]
  },
  {
   "cell_type": "code",
   "execution_count": 41,
   "metadata": {},
   "outputs": [
    {
     "name": "stdout",
     "output_type": "stream",
     "text": [
      "Namespace(cuda=True, device=device(type='cuda'), epochs=10, lr=0.001, model=ResNet with ResidualBlock, no_cuda=False, train_loader=<torch.utils.data.dataloader.DataLoader object at 0x000001A3842F14A8>, valid_loader=<torch.utils.data.dataloader.DataLoader object at 0x000001A3842F1320>)\n"
     ]
    }
   ],
   "source": [
    "print(args)"
   ]
  },
  {
   "cell_type": "code",
   "execution_count": null,
   "metadata": {},
   "outputs": [],
   "source": [
    "trainer.train()"
   ]
  }
 ],
 "metadata": {
  "kernelspec": {
   "display_name": "Python 3",
   "language": "python",
   "name": "python3"
  },
  "language_info": {
   "codemirror_mode": {
    "name": "ipython",
    "version": 3
   },
   "file_extension": ".py",
   "mimetype": "text/x-python",
   "name": "python",
   "nbconvert_exporter": "python",
   "pygments_lexer": "ipython3",
   "version": "3.7.2"
  }
 },
 "nbformat": 4,
 "nbformat_minor": 2
}
