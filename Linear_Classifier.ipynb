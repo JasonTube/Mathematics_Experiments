{
 "cells": [
  {
   "cell_type": "markdown",
   "metadata": {},
   "source": [
    "# 线性分类器 "
   ]
  },
  {
   "cell_type": "code",
   "execution_count": 1,
   "metadata": {},
   "outputs": [],
   "source": [
    "import numpy as np\n",
    "import matplotlib.pyplot as plt\n",
    "%matplotlib inline"
   ]
  },
  {
   "cell_type": "code",
   "execution_count": 2,
   "metadata": {},
   "outputs": [],
   "source": [
    "def create_toy_data(add_outliers=False, add_class=False):\n",
    "    x0 = np.random.normal(size=50).reshape(-1, 2) - 1\n",
    "    x1 = np.random.normal(size=50).reshape(-1, 2) + 1\n",
    "    if add_outliers:\n",
    "        x2 = np.random.normal(size=10).reshape(-1, 2) + np.array([6., 3.])\n",
    "        return np.concatenate([x0, x1, x2]), np.concatenate([np.zeros(25), np.ones(30)]).astype(np.int)\n",
    "    if add_class:\n",
    "        x2 = np.random.normal(size=50).reshape(-1, 2) + 3.\n",
    "        return np.concatenate([x0, x1, x2]), np.concatenate([np.zeros(25), np.ones(25), np.zeros(25)+2]).astype(np.int)\n",
    "    return np.concatenate([x0, x1]), np.concatenate([np.zeros(25), np.ones(25)]).astype(np.int)\n"
   ]
  },
  {
   "cell_type": "code",
   "execution_count": 3,
   "metadata": {
    "scrolled": true
   },
   "outputs": [
    {
     "data": {
      "text/plain": [
       "<matplotlib.collections.PathCollection at 0x20d2e1629b0>"
      ]
     },
     "execution_count": 3,
     "metadata": {},
     "output_type": "execute_result"
    },
    {
     "data": {
      "image/png": "[encoded data removed]",
      "text/plain": [
       "<Figure size 432x288 with 1 Axes>"
      ]
     },
     "metadata": {
      "needs_background": "light"
     },
     "output_type": "display_data"
    }
   ],
   "source": [
    "x_train, y_train = create_toy_data()\n",
    "x1, x2 = np.meshgrid(np.linspace(-5, 5, 100), np.linspace(-5, 5, 100))\n",
    "plt.scatter(x_train[:, 0], x_train[:, 1], c=y_train)"
   ]
  },
  {
   "cell_type": "code",
   "execution_count": 4,
   "metadata": {},
   "outputs": [],
   "source": [
    "import itertools\n",
    "import functools\n",
    "\n",
    "class PolynomialFeature(object):\n",
    "    \"\"\"Polynomial features\n",
    "\n",
    "    transforms input array with polynomial features\n",
    "\n",
    "    Example 1\n",
    "    =========\n",
    "    x = [a, b]\n",
    "\n",
    "    y = PolynomialFeature(degree=5).transform(x)\n",
    "    y = [[1, a, a^2, a^3, a^4, a^5],\n",
    "         [1, b, b^2, b^3, b^4, b^5]]\n",
    "\n",
    "    Example 1\n",
    "    =========\n",
    "    x = [[a, b],\n",
    "         [c, d]]\n",
    "\n",
    "    y = PolynomialFeature(degree=2).transform(x)\n",
    "    y = [[1, a, b, a^2, a*b, b^2],\n",
    "         [1, c, d, c^2, c*d, d^2]]\n",
    "    \"\"\"\n",
    "    def __init__(self, degree=2):\n",
    "        \"\"\"Construct polynomial features\n",
    "        \n",
    "        Params\n",
    "        ======\n",
    "        degree: int\n",
    "          degree of polynomial\n",
    "        \"\"\"\n",
    "        if not isinstance(degree, int):\n",
    "            raise ValueError(\"degree should be int type\")\n",
    "        self.degree = degree\n",
    "\n",
    "    def transform(self, x):\n",
    "        \"\"\"Transforms input array with polynomial features\n",
    "\n",
    "        Params\n",
    "        ======\n",
    "        x: ndarray with shape (N, D)\n",
    "           input array\n",
    "\n",
    "        Returns\n",
    "        =======\n",
    "        output: ndarray with shape (N, K+1)\n",
    "           polynomial features\n",
    "        \"\"\"\n",
    "        if x.ndim == 1:\n",
    "            x = x[:, None]\n",
    "        x_t = x.transpose()\n",
    "        features = [np.ones(len(x))]\n",
    "        for degree in range(1, self.degree+1):\n",
    "            for items in itertools.combinations_with_replacement(x_t, degree):\n",
    "                features.append(functools.reduce(lambda x, y: x * y, items))\n",
    "        return np.array(features).transpose()\n"
   ]
  },
  {
   "cell_type": "code",
   "execution_count": 5,
   "metadata": {},
   "outputs": [],
   "source": [
    "class LabelTransformer(object):\n",
    "    \"\"\"label encoder decoder\n",
    "    \n",
    "    Attr\n",
    "    ====\n",
    "    n_classes: int\n",
    "        number of classes\n",
    "    \"\"\"\n",
    "    def __init__(self, n_classes=None):\n",
    "        self.n_classes = n_classes\n",
    "\n",
    "    @property\n",
    "    def n_classes(self):\n",
    "        return self.__n_classes\n",
    "\n",
    "    @n_classes.setter\n",
    "    def n_classes(self, K):\n",
    "        self.__n_classes = K\n",
    "        self.__encoder = None if K is None else np.eye(K)\n",
    "\n",
    "    @property\n",
    "    def encoder(self):\n",
    "        return self.__encoder\n",
    "\n",
    "    def encode(self, class_indices):\n",
    "        \"\"\"encode class index into one-of-k code\n",
    "        \n",
    "        Params\n",
    "        ======\n",
    "        class_indices: ndarray with shape (N,)\n",
    "            non-negative class index\n",
    "            elements must be integer in [0, n_classes)\n",
    "        \n",
    "        Returns\n",
    "        =======\n",
    "        output: ndarrray with shape (N, K)\n",
    "            one-of-k encoding of input\n",
    "        \"\"\"\n",
    "        if self.n_classes is None:\n",
    "            self.n_classes = np.max(class_indices) + 1\n",
    "\n",
    "        return self.encoder[class_indices]\n",
    "\n",
    "    def decode(self, onehot):\n",
    "        \"\"\" decode one-of-k code into class index\n",
    "        \n",
    "        Params\n",
    "        ======\n",
    "        onehot: ndarray with shape (N, K)\n",
    "            one-of-k code\n",
    "        \n",
    "        Returns\n",
    "        =======\n",
    "        output: ndarray with shape (N,)\n",
    "            class index\n",
    "        \"\"\"\n",
    "        return np.argmax(onehot, axis=1)\n"
   ]
  },
  {
   "cell_type": "code",
   "execution_count": 6,
   "metadata": {},
   "outputs": [],
   "source": [
    "class LeastSquaresClassifier(object):\n",
    "    \"\"\"Least Squares Classifier Model\n",
    "\n",
    "    Params\n",
    "    ======\n",
    "    X: (N, D)\n",
    "    W: (D, K)\n",
    "    y = argmax_k X @ W\n",
    "    \"\"\"\n",
    "    def fit(self, X, t):\n",
    "        \"\"\"Least squares fitting for classification\n",
    "\n",
    "        Params\n",
    "        ======\n",
    "        X: ndarray with shape (N, D)\n",
    "           training independent variable\n",
    "        t: ndarray with shape (N,) or (N, K)\n",
    "           training dependent variable\n",
    "           in class index (N,) or one-hot coding (N,K)\n",
    "        \"\"\"\n",
    "        if t.ndim == 1:\n",
    "            t = LabelTransformer().encode(t)\n",
    "        self.W = np.linalg.pinv(X) @ t\n",
    "\n",
    "    def classify(self, X):\n",
    "        \"\"\"classify input data\n",
    "        \n",
    "        Params\n",
    "        ======\n",
    "        X: ndarray with shape (N, D)\n",
    "           independent variable to be classified\n",
    "\n",
    "        Returns\n",
    "        =======\n",
    "        output: ndarray with shape (N)\n",
    "           class index for each input\n",
    "        \"\"\"\n",
    "        return np.argmax(X @ self.W, axis=-1)\n"
   ]
  },
  {
   "cell_type": "code",
   "execution_count": 7,
   "metadata": {
    "scrolled": false
   },
   "outputs": [
    {
     "data": {
      "image/png": "[encoded data removed]",
      "text/plain": [
       "<Figure size 432x288 with 1 Axes>"
      ]
     },
     "metadata": {
      "needs_background": "light"
     },
     "output_type": "display_data"
    }
   ],
   "source": [
    "x1, x2 = np.meshgrid(np.linspace(-5, 5, 100), np.linspace(-5, 5, 100))\n",
    "x_test = np.array([x1, x2]).reshape(2, -1).T\n",
    "\n",
    "feature = PolynomialFeature(1)\n",
    "X_train = feature.transform(x_train)\n",
    "X_test = feature.transform(x_test)\n",
    "\n",
    "model = LeastSquaresClassifier()\n",
    "model.fit(X_train, y_train)\n",
    "y = model.classify(X_test)\n",
    "\n",
    "plt.scatter(x_train[:, 0], x_train[:, 1], c=y_train)\n",
    "plt.contourf(x1, x2, y.reshape(100, 100), alpha=0.2)#, levels=np.linspace(0, 1, 3))\n",
    "plt.show()\n"
   ]
  },
  {
   "cell_type": "code",
   "execution_count": 8,
   "metadata": {},
   "outputs": [],
   "source": [
    "class FishersLinearDiscriminant(object):\n",
    "    \"\"\" Fisher's Linear Discriminant Model\n",
    "    \"\"\"\n",
    "    def __init__(self, w=None, threshold=None):\n",
    "        self.w = w\n",
    "        self.threshold = threshold\n",
    "\n",
    "    def fit(self, X, t):\n",
    "        \"\"\" estimate parameter given training dataset\n",
    "        \n",
    "        Params\n",
    "        ======\n",
    "        X: ndarray with shape (N, D)\n",
    "           training dataset independent variable\n",
    "        t: ndarray with shape (N,)\n",
    "           training dataset dependent variable\n",
    "           binary 0 or 1\n",
    "        \"\"\"\n",
    "        X0 = X[t == 0]\n",
    "        X1 = X[t == 1]\n",
    "        m0 = np.mean(X0, axis=0)\n",
    "        m1 = np.mean(X1, axis=0)\n",
    "        cov_inclass = np.cov(X0, rowvar=False) + np.cov(X1, rowvar=False)\n",
    "        self.w = np.linalg.solve(cov_inclass, m1 - m0)\n",
    "        self.w /= np.linalg.norm(self.w).clip(min=1e-10)\n",
    "\n",
    "        m = np.mean(X, axis=0)\n",
    "        self.threshold = self.w @ m\n",
    "\n",
    "        \n",
    "    def transform(self, X):\n",
    "        \"\"\"project data\n",
    "        \n",
    "        Params\n",
    "        ======\n",
    "        X: ndarray with shape (N, D)\n",
    "           \n",
    "        Returns\n",
    "        =======\n",
    "        y: ndarray with shape (N,)\n",
    "           projected data\n",
    "        \"\"\"\n",
    "        return X @ self.w\n",
    "\n",
    "    def classify(self, X):\n",
    "        \"\"\"classify input data\n",
    "        \n",
    "        Params\n",
    "        ======\n",
    "        X: ndarray with shape (N, D)\n",
    "           independent variable to be classified\n",
    "\n",
    "        Returns\n",
    "        =======\n",
    "        output: ndarray with shape (N, D)\n",
    "           binary class for each input\n",
    "        \"\"\"\n",
    "        return (X @ self.w > self.threshold).astype(np.int)\n"
   ]
  },
  {
   "cell_type": "code",
   "execution_count": 9,
   "metadata": {},
   "outputs": [
    {
     "data": {
      "image/png": "[encoded data removed]",
      "text/plain": [
       "<Figure size 432x288 with 1 Axes>"
      ]
     },
     "metadata": {
      "needs_background": "light"
     },
     "output_type": "display_data"
    }
   ],
   "source": [
    "x_train, y_train = create_toy_data()\n",
    "x1_test, x2_test = np.meshgrid(np.linspace(-5, 5, 100), np.linspace(-5, 5, 100))\n",
    "x_test = np.array([x1_test, x2_test]).reshape(2, -1).T\n",
    "\n",
    "model = FishersLinearDiscriminant()\n",
    "model.fit(x_train, y_train)\n",
    "y = model.classify(x_test)\n",
    "\n",
    "plt.scatter(x_train[:, 0], x_train[:, 1], c=y_train)\n",
    "plt.contourf(x1_test, x2_test, y.reshape(100, 100), alpha=0.2, levels=np.linspace(0, 1, 3))\n",
    "plt.xlim(-5, 5)\n",
    "plt.ylim(-5, 5)\n",
    "plt.gca().set_aspect('equal', adjustable='box')\n",
    "plt.show()"
   ]
  },
  {
   "cell_type": "code",
   "execution_count": null,
   "metadata": {},
   "outputs": [],
   "source": []
  }
 ],
 "metadata": {
  "kernelspec": {
   "display_name": "Python 3",
   "language": "python",
   "name": "python3"
  },
  "language_info": {
   "codemirror_mode": {
    "name": "ipython",
    "version": 3
   },
   "file_extension": ".py",
   "mimetype": "text/x-python",
   "name": "python",
   "nbconvert_exporter": "python",
   "pygments_lexer": "ipython3",
   "version": "3.7.2"
  }
 },
 "nbformat": 4,
 "nbformat_minor": 2
}
