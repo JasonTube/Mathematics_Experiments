{
 "cells": [
  {
   "cell_type": "code",
   "execution_count": 1,
   "metadata": {},
   "outputs": [],
   "source": [
    "import torch\n",
    "import torch.nn as nn\n",
    "import torch.optim as optim\n",
    "from torch.optim.lr_scheduler import StepLR\n",
    "\n",
    "import numpy as np\n",
    "import matplotlib.pyplot as plt\n",
    "from mpl_toolkits.mplot3d import Axes3D\n",
    "from matplotlib import cm\n",
    "import os\n",
    "from pyDOE import lhs\n",
    "import shutil"
   ]
  },
  {
   "cell_type": "markdown",
   "metadata": {},
   "source": [
    "# Solving PDEs based on Neural Networks"
   ]
  },
  {
   "cell_type": "markdown",
   "metadata": {},
   "source": [
    "## PDE"
   ]
  },
  {
   "cell_type": "markdown",
   "metadata": {},
   "source": [
    "Consider Poisson equation\n",
    "$$\n",
    "\\left\\{\n",
    "\\begin{array}{rl}\n",
    "-\\nabla \\cdot a \\nabla u(\\boldsymbol x) = f(\\boldsymbol x), & \\boldsymbol x \\in \\Omega\\\\\n",
    "u(\\boldsymbol x) = g(\\boldsymbol x), & \\boldsymbol x \\in \\partial \\Omega\n",
    "\\end{array}\n",
    "\\right.\n",
    "$$\n",
    "\n",
    "Let $\\Omega \\in [0, 1]^2$, $u=\\sin(2\\pi x)\\sin(2\\pi y)$."
   ]
  },
  {
   "cell_type": "code",
   "execution_count": 2,
   "metadata": {},
   "outputs": [],
   "source": [
    "class Problem(object):\n",
    "    \"\"\"Description of Poisson equation\"\"\"\n",
    "    def __init__(self, domain=(0, 1, 0, 1)):\n",
    "        self.domain = domain\n",
    "        \n",
    "    def __repr__(self):\n",
    "        return f'{self.__doc__}'\n",
    "    \n",
    "    \n",
    "    def u(self, x, order=0, verbose=None):\n",
    "        temp = np.sin(2*np.pi*x[:, [0]]) * np.sin(2*np.pi*x[:, [1]])\n",
    "        if order == 0:\n",
    "            out = temp\n",
    "        elif order == 1:\n",
    "            u_x = 2*np.pi * np.cos(2*np.pi*x[:, [0]]) * np.sin(2*np.pi*x[:, [1]])\n",
    "            u_y = 2*np.pi * np.sin(2*np.pi*x[:, [0]]) * np.cos(2*np.pi*x[:, [1]])\n",
    "            out = np.hstack((u_x, u_y))\n",
    "        elif order == 2:\n",
    "            u_xx = - (2*np.pi)**2 * temp\n",
    "            u_yy = u_xx\n",
    "            out = np.hstack((u_xx, u_yy))\n",
    "        \n",
    "        if verbose == 'tensor':\n",
    "            return torch.from_numpy(out).float()\n",
    "        return out\n",
    "    \n",
    "    def a(self, x, order=0, verbose=None):\n",
    "        if order == 0:\n",
    "            out = np.ones_like(x[:, [0]])\n",
    "        elif order == 1:\n",
    "            a_x = np.zeros_like(x[:, [0]])\n",
    "            a_y = a_x\n",
    "            out = np.hstack((a_x, a_y))\n",
    "        \n",
    "        if verbose == 'tensor':\n",
    "            return torch.from_numpy(out).float()\n",
    "        return out\n",
    "    \n",
    "    def f(self, x, verbose=None):\n",
    "        a     = self.a(x, order=0, verbose=verbose)\n",
    "        a_1st = self.a(x, order=1, verbose=verbose)\n",
    "\n",
    "        u     = self.u(x, order=0, verbose=verbose)\n",
    "        u_1st = self.u(x, order=1, verbose=verbose)\n",
    "        u_2nd = self.u(x, order=2, verbose=verbose)\n",
    "        \n",
    "        out = - (a * u_2nd[:, [0]] + a_1st[:, [0]] * u_1st[:, [0]] + \n",
    "                 a * u_2nd[:, [1]] + a_1st[:, [1]] * u_1st[:, [1]])\n",
    "        \n",
    "        return out\n",
    "    \n",
    "    def g(self, x, verbose=None):\n",
    "        return self.u(x, verbose=verbose)"
   ]
  },
  {
   "cell_type": "code",
   "execution_count": 3,
   "metadata": {},
   "outputs": [
    {
     "name": "stdout",
     "output_type": "stream",
     "text": [
      "Description of Poisson equation\n"
     ]
    }
   ],
   "source": [
    "problem = Problem()\n",
    "print(problem)"
   ]
  },
  {
   "cell_type": "markdown",
   "metadata": {},
   "source": [
    "## Dataset"
   ]
  },
  {
   "cell_type": "code",
   "execution_count": 4,
   "metadata": {},
   "outputs": [],
   "source": [
    "class Trainset(object):\n",
    "    def __init__(self, problem, *args, **kwargs):\n",
    "        self.problem = problem\n",
    "        self.domain = problem.domain\n",
    "        self.args = args\n",
    "        self.method = kwargs['method']\n",
    "        \n",
    "    def __call__(self, plot=False, verbose=None):\n",
    "        if self.method == 'uniform':\n",
    "            n_x, n_y = self.args[0], self.args[1]\n",
    "            x, x_bc = self._uniform_sample(n_x, n_y)\n",
    "        elif self.method == 'lhs':\n",
    "            n, n_bc = self.args[0], self.args[1]\n",
    "            x, x_bc = self._lhs_sample(n, n_bc)\n",
    "        f = self.problem.f(x)\n",
    "        u = self.problem.u(x)\n",
    "        g = self.problem.g(x_bc)\n",
    "        \n",
    "        if plot:\n",
    "            fig = plt.figure()\n",
    "            ax = fig.add_subplot(111)\n",
    "            ax.scatter(x[:, 0], x[:, 1], facecolor='r', s=10)\n",
    "            ax.scatter(x_bc[:, 0], x_bc[:, 1], facecolor='b', s=10)\n",
    "            ax.set_xlim(-0.01, 1.01)\n",
    "            ax.set_ylim(-0.01, 1.01)\n",
    "            ax.set_aspect('equal')\n",
    "            plt.show()\n",
    "            \n",
    "        if verbose is not None:\n",
    "            x = torch.from_numpy(x).float()\n",
    "            x_bc = torch.from_numpy(x_bc).float()\n",
    "            u = torch.from_numpy(u).float()\n",
    "            f = torch.from_numpy(f).float()\n",
    "            g = torch.from_numpy(g).float()\n",
    "            return x, x_bc, u, f, g\n",
    "        return x, x_bc, u, f, g\n",
    "        \n",
    "    def _uniform_sample(self, n_x, n_y):\n",
    "        x_min, x_max, y_min, y_max = self.domain\n",
    "        x = np.linspace(x_min, x_max, n_x)\n",
    "        y = np.linspace(y_min, y_max, n_y)\n",
    "        x, y = np.meshgrid(x, y)\n",
    "        xy = np.hstack((x.reshape(x.size, -1), y.reshape(y.size, -1)))\n",
    "        \n",
    "        mask = (xy[:, 0] - x_min) * (x_max - xy[:, 0]) * (xy[:, 1] - y_min) * (y_max - xy[:, 1]) == 0\n",
    "        x_bc = xy[mask]\n",
    "        x = xy[np.logical_not(mask)]\n",
    "\n",
    "        return x, x_bc\n",
    "        \n",
    "    def _lhs_sample(self, n, n_bc):\n",
    "        x_min, x_max, y_min, y_max = self.domain\n",
    "\n",
    "        lb = np.array([x_min, y_min])\n",
    "        ub = np.array([x_max, y_max])\n",
    "        x = lb + (ub - lb) * lhs(2, n)\n",
    "\n",
    "        lb = np.array([x_min, y_min])\n",
    "        ub = np.array([x_max, y_min])\n",
    "        x_bc = lb + (ub - lb) * lhs(2, n_bc//4)\n",
    "\n",
    "        lb = np.array([x_min, y_max])\n",
    "        ub = np.array([x_max, y_max])\n",
    "        temp = lb + (ub - lb) * lhs(2, n_bc//4)\n",
    "        x_bc = np.vstack((x_bc, temp))\n",
    "\n",
    "        lb = np.array([x_min, y_min])\n",
    "        ub = np.array([x_min, y_max])\n",
    "        temp = lb + (ub - lb) * lhs(2, n_bc//4)\n",
    "        x_bc = np.vstack((x_bc, temp))\n",
    "\n",
    "        lb = np.array([x_max, y_min])\n",
    "        ub = np.array([x_max, y_max])\n",
    "        temp = lb + (ub - lb) * lhs(2, n_bc//4)\n",
    "        x_bc = np.vstack((x_bc, temp))\n",
    "        \n",
    "        return x, x_bc"
   ]
  },
  {
   "cell_type": "code",
   "execution_count": 5,
   "metadata": {},
   "outputs": [
    {
     "data": {
      "image/png": "[encoded data removed]",
      "text/plain": [
       "<Figure size 432x288 with 1 Axes>"
      ]
     },
     "metadata": {
      "needs_background": "light"
     },
     "output_type": "display_data"
    }
   ],
   "source": [
    "problem = Problem()\n",
    "trainset = Trainset(problem, 40, 40, method='uniform')\n",
    "#trainset = Trainset(problem, 1000, 400, method='lhs')\n",
    "\n",
    "x, x_bc, u, f, g = trainset(plot=True)"
   ]
  },
  {
   "cell_type": "code",
   "execution_count": 6,
   "metadata": {},
   "outputs": [],
   "source": [
    "class Testset(object):\n",
    "    \"\"\"Dataset on a square domain\"\"\"\n",
    "    def __init__(self, problem, *args, **kwargs):\n",
    "        self.problem = problem\n",
    "        self.domain = problem.domain\n",
    "        self.args = args\n",
    "        self.method = kwargs['method']\n",
    "\n",
    "    def __repr__(self):\n",
    "        return f'{self.__doc__}'\n",
    "        \n",
    "    def __call__(self, plot=False, verbose=None):\n",
    "        if self.method == 'uniform':\n",
    "            n_x, n_y = self.args[0], self.args[1]\n",
    "            X, x, y = self._uniform_sample(n_x, n_y)\n",
    "        u = self.problem.u(X)\n",
    "        u = u.reshape(x.shape)\n",
    "        \n",
    "        if plot == True:\n",
    "            fig = plt.figure()\n",
    "            ax = fig.add_subplot(121)\n",
    "            ax.scatter(X[:, 0], X[:, 1], facecolor='r', s=10)\n",
    "            ax.set_xlim(-0.01, 1.01)\n",
    "            ax.set_ylim(-0.01, 1.01)\n",
    "            ax.set_aspect('equal')\n",
    "            \n",
    "            ax = fig.add_subplot(122, projection='3d')\n",
    "            ax.plot_surface(x, y, u, cmap=cm.coolwarm)\n",
    "            plt.show() \n",
    "            \n",
    "        if verbose == 'tensor':\n",
    "            X = torch.from_numpy(X).float()\n",
    "            \n",
    "        return X, x, y, u\n",
    "\n",
    "    \n",
    "    def _uniform_sample(self, n_x, n_y):\n",
    "        x_min, x_max, y_min, y_max = self.domain\n",
    "        x = np.linspace(x_min, x_max, n_x)\n",
    "        y = np.linspace(y_min, y_max, n_y)\n",
    "        x, y = np.meshgrid(x, y)\n",
    "        X = np.hstack((x.reshape(x.size, -1), y.reshape(y.size, -1)))\n",
    "        return X, x, y\n"
   ]
  },
  {
   "cell_type": "code",
   "execution_count": 7,
   "metadata": {},
   "outputs": [
    {
     "data": {
      "image/png": "[encoded data removed]",
      "text/plain": [
       "<Figure size 432x288 with 2 Axes>"
      ]
     },
     "metadata": {
      "needs_background": "light"
     },
     "output_type": "display_data"
    }
   ],
   "source": [
    "testset = Testset(problem, 40, 40, method='uniform')\n",
    "X, x, y, u = testset(plot=True)"
   ]
  },
  {
   "cell_type": "markdown",
   "metadata": {},
   "source": [
    "## Network Archetecture"
   ]
  },
  {
   "cell_type": "markdown",
   "metadata": {},
   "source": [
    "### Deep Neural Network"
   ]
  },
  {
   "cell_type": "code",
   "execution_count": 8,
   "metadata": {},
   "outputs": [],
   "source": [
    "def activation(name):\n",
    "    if name in ['tanh', 'Tanh']:\n",
    "        return nn.Tanh()\n",
    "    elif name in ['relu', 'ReLU']:\n",
    "        return nn.ReLU(inplace=True)\n",
    "    elif name in ['leaky_relu', 'LeakyReLU']:\n",
    "        return nn.LeakyReLU(inplace=True)\n",
    "    elif name in ['sigmoid', 'Sigmoid']:\n",
    "        return nn.Sigmoid()\n",
    "    elif name in ['softplus', 'Softplus']:\n",
    "        return nn.Softplus()\n",
    "    else: \n",
    "        raise ValueError(f'unknown activation function: {name}')"
   ]
  },
  {
   "cell_type": "code",
   "execution_count": 9,
   "metadata": {},
   "outputs": [],
   "source": [
    "class DNN(nn.Module):\n",
    "    \"\"\"Deep Neural Network\"\"\"\n",
    "    def __init__(self, dim_in, dim_out, dim_hidden, hidden_layers, act_name='tanh', init_name=None):\n",
    "        super().__init__()\n",
    "        model = nn.Sequential()\n",
    "        \n",
    "        model.add_module('fc0', nn.Linear(dim_in, dim_hidden, bias=True))\n",
    "        model.add_module('act0', activation(act_name))\n",
    "        for i in range(1, hidden_layers):\n",
    "            model.add_module(f'fc{i}', nn.Linear(dim_hidden, dim_hidden, bias=True))\n",
    "            model.add_module(f'act{i}', activation(act_name))\n",
    "        model.add_module(f'fc{hidden_layers}', nn.Linear(dim_hidden, dim_out, bias=True))\n",
    "        \n",
    "        self.model = model\n",
    "        if init_name is not None:\n",
    "            self.init_weight(init_name)\n",
    "            \n",
    "    def init_weight(self, name):\n",
    "        if name == 'xavier_normal':\n",
    "            nn_init = nn.init.xavier_normal_\n",
    "        elif name == 'xavier_uniform':\n",
    "            nn_init = nn.init.xavier_uniform_\n",
    "        elif name == 'kaiming_normal':\n",
    "            nn_init = nn.init.kaiming_normal_\n",
    "        elif name == 'kaiming_uniform':\n",
    "            nn_init =  nn.init.kaiming_uniform_\n",
    "        else:\n",
    "            raise ValueError(f'unknown initialization function: {name}')\n",
    "    \n",
    "        for param in self.parameters():\n",
    "            if len(param.shape) > 1:\n",
    "                nn_init(param)\n",
    "                \n",
    "    def forward(self, x):\n",
    "        return self.model(x)\n",
    "    \n",
    "    def forward_test(self, x):\n",
    "        print(f\"{'input':<20}{str(x.shape):<40}\")\n",
    "        for name, module in self.model._modules.items():\n",
    "              x = module(x)\n",
    "              print(f\"{name:<20}{str(x.shape):<40}\")\n",
    "        return x              \n",
    "    \n",
    "    def model_size(self):\n",
    "        n_params = 0\n",
    "        for param in self.parameters():\n",
    "            n_params += param.numel()\n",
    "        return n_params                "
   ]
  },
  {
   "cell_type": "code",
   "execution_count": 10,
   "metadata": {
    "scrolled": true
   },
   "outputs": [
    {
     "name": "stdout",
     "output_type": "stream",
     "text": [
      "DNN(\n",
      "  (model): Sequential(\n",
      "    (fc0): Linear(in_features=2, out_features=20, bias=True)\n",
      "    (act0): Tanh()\n",
      "    (fc1): Linear(in_features=20, out_features=20, bias=True)\n",
      "    (act1): Tanh()\n",
      "    (fc2): Linear(in_features=20, out_features=20, bias=True)\n",
      "    (act2): Tanh()\n",
      "    (fc3): Linear(in_features=20, out_features=20, bias=True)\n",
      "    (act3): Tanh()\n",
      "    (fc4): Linear(in_features=20, out_features=1, bias=True)\n",
      "  )\n",
      ")\n",
      "1341\n"
     ]
    }
   ],
   "source": [
    "model = DNN(2, 1, 20, 4, init_name='kaiming_normal')\n",
    "print(model)\n",
    "print(model.model_size())"
   ]
  },
  {
   "cell_type": "code",
   "execution_count": 11,
   "metadata": {},
   "outputs": [
    {
     "name": "stdout",
     "output_type": "stream",
     "text": [
      "input               torch.Size([5, 2])                      \n",
      "fc0                 torch.Size([5, 20])                     \n",
      "act0                torch.Size([5, 20])                     \n",
      "fc1                 torch.Size([5, 20])                     \n",
      "act1                torch.Size([5, 20])                     \n",
      "fc2                 torch.Size([5, 20])                     \n",
      "act2                torch.Size([5, 20])                     \n",
      "fc3                 torch.Size([5, 20])                     \n",
      "act3                torch.Size([5, 20])                     \n",
      "fc4                 torch.Size([5, 1])                      \n"
     ]
    }
   ],
   "source": [
    "x = torch.randn(5, 2)\n",
    "y = model.forward_test(x)"
   ]
  },
  {
   "cell_type": "markdown",
   "metadata": {},
   "source": [
    "### Residual DNN"
   ]
  },
  {
   "cell_type": "code",
   "execution_count": 12,
   "metadata": {},
   "outputs": [],
   "source": [
    "class ResBlock(nn.Module):\n",
    "    def __init__(self, dim_in, dim_out, dim_hidden, act_name='tanh'):\n",
    "        super().__init__()\n",
    "        \n",
    "        assert(dim_in == dim_out)\n",
    "        \n",
    "        block = nn.Sequential()\n",
    "        block.add_module('act', activation(act_name))\n",
    "        block.add_module('fc0', nn.Linear(dim_in, dim_hidden, bias=True))\n",
    "        block.add_module('fc1', nn.Linear(dim_hidden, dim_out, bias=True))\n",
    "        self.block = block\n",
    "        \n",
    "    def forward(self, x):\n",
    "        res = x\n",
    "        out = self.block(x)\n",
    "        return res + out"
   ]
  },
  {
   "cell_type": "code",
   "execution_count": 13,
   "metadata": {},
   "outputs": [],
   "source": [
    "class ResDNN(nn.Module):\n",
    "    def __init__(self, dim_in, dim_out, dim_hidden, res_blocks, act_name='tanh', init_name='kaiming_normal'):\n",
    "        super().__init__()\n",
    "        \n",
    "        model = nn.Sequential()\n",
    "        model.add_module('fc_first', nn.Linear(dim_in, dim_hidden, bias=True))\n",
    "        for i in range(res_blocks):\n",
    "            res_block = ResBlock(dim_hidden, dim_hidden, dim_hidden, act_name=act_name)\n",
    "            model.add_module(f'res_block{i+1}', res_block)\n",
    "        model.add_module('act_last', activation(act_name))\n",
    "        model.add_module('fc_last', nn.Linear(dim_hidden, dim_out, bias=True))\n",
    "        \n",
    "        self.model = model\n",
    "        if init_name is not None:\n",
    "            self.init_weight(init_name)\n",
    "        \n",
    "    def init_weight(self, name):\n",
    "        if name == 'xavier_normal':\n",
    "            nn_init = nn.init.xavier_normal_\n",
    "        elif name == 'xavier_uniform':\n",
    "            nn_init = nn.init.xavier_uniform_\n",
    "        elif name == 'kaiming_normal':\n",
    "            nn_init = nn.init.kaiming_normal_\n",
    "        elif name == 'kaiming_uniform':\n",
    "            nn_init =  nn.init.kaiming_uniform_\n",
    "        else:\n",
    "            raise ValueError(f'unknown initialization function: {name}')\n",
    "    \n",
    "        for param in self.parameters():\n",
    "            if len(param.shape) > 1:\n",
    "                nn_init(param)\n",
    "\n",
    "    def forward(self, x):\n",
    "        return self.model(x)\n",
    "\n",
    "    def forward_test(self, x):\n",
    "        print(f\"{'input':<20}{str(x.shape):<40}\")\n",
    "        for name, module in self.model._modules.items():\n",
    "              x = module(x)\n",
    "              print(f\"{name:<20}{str(x.shape):<40}\")\n",
    "        return x              \n",
    "    \n",
    "    def model_size(self):\n",
    "        n_params = 0\n",
    "        for param in self.parameters():\n",
    "            n_params += param.numel()\n",
    "        return n_params"
   ]
  },
  {
   "cell_type": "code",
   "execution_count": 14,
   "metadata": {},
   "outputs": [
    {
     "name": "stdout",
     "output_type": "stream",
     "text": [
      "ResDNN(\n",
      "  (model): Sequential(\n",
      "    (fc_first): Linear(in_features=2, out_features=10, bias=True)\n",
      "    (res_block1): ResBlock(\n",
      "      (block): Sequential(\n",
      "        (act): Tanh()\n",
      "        (fc0): Linear(in_features=10, out_features=10, bias=True)\n",
      "        (fc1): Linear(in_features=10, out_features=10, bias=True)\n",
      "      )\n",
      "    )\n",
      "    (res_block2): ResBlock(\n",
      "      (block): Sequential(\n",
      "        (act): Tanh()\n",
      "        (fc0): Linear(in_features=10, out_features=10, bias=True)\n",
      "        (fc1): Linear(in_features=10, out_features=10, bias=True)\n",
      "      )\n",
      "    )\n",
      "    (res_block3): ResBlock(\n",
      "      (block): Sequential(\n",
      "        (act): Tanh()\n",
      "        (fc0): Linear(in_features=10, out_features=10, bias=True)\n",
      "        (fc1): Linear(in_features=10, out_features=10, bias=True)\n",
      "      )\n",
      "    )\n",
      "    (res_block4): ResBlock(\n",
      "      (block): Sequential(\n",
      "        (act): Tanh()\n",
      "        (fc0): Linear(in_features=10, out_features=10, bias=True)\n",
      "        (fc1): Linear(in_features=10, out_features=10, bias=True)\n",
      "      )\n",
      "    )\n",
      "    (act_last): Tanh()\n",
      "    (fc_last): Linear(in_features=10, out_features=1, bias=True)\n",
      "  )\n",
      ")\n",
      "921\n"
     ]
    }
   ],
   "source": [
    "model = ResDNN(2, 1, 10, 4, init_name='kaiming_normal')\n",
    "print(model)\n",
    "print(model.model_size())"
   ]
  },
  {
   "cell_type": "code",
   "execution_count": 15,
   "metadata": {
    "scrolled": true
   },
   "outputs": [
    {
     "name": "stdout",
     "output_type": "stream",
     "text": [
      "input               torch.Size([5, 2])                      \n",
      "fc_first            torch.Size([5, 10])                     \n",
      "res_block1          torch.Size([5, 10])                     \n",
      "res_block2          torch.Size([5, 10])                     \n",
      "res_block3          torch.Size([5, 10])                     \n",
      "res_block4          torch.Size([5, 10])                     \n",
      "act_last            torch.Size([5, 10])                     \n",
      "fc_last             torch.Size([5, 1])                      \n"
     ]
    }
   ],
   "source": [
    "x = torch.randn(5, 2)\n",
    "y = model.forward_test(x)"
   ]
  },
  {
   "cell_type": "markdown",
   "metadata": {},
   "source": [
    "### Physics Informed Neural Networks (PINN)"
   ]
  },
  {
   "cell_type": "code",
   "execution_count": 16,
   "metadata": {},
   "outputs": [],
   "source": [
    "def grad(outputs, inputs):\n",
    "    return torch.autograd.grad(outputs, inputs,\n",
    "                               grad_outputs=torch.ones_like(outputs),\n",
    "                               create_graph=True)"
   ]
  },
  {
   "cell_type": "code",
   "execution_count": 17,
   "metadata": {},
   "outputs": [],
   "source": [
    "class PINN(DNN):\n",
    "    \"\"\"Physics Constrained Neural Networks\n",
    "    \"\"\"\n",
    "    def __init__(self, dim_in, dim_out, dim_hidden, hidden_layers, act_name='tanh', init_name='xavier_normal'):\n",
    "        super().__init__(dim_in, dim_out, dim_hidden, hidden_layers, act_name=act_name, init_name=init_name)\n",
    "        \n",
    "    def forward(self, problem, x, x_bc=None):\n",
    "        x.requires_grad_(True)\n",
    "        u = super().forward(x)\n",
    "\n",
    "        grad_u = grad(u, x)[0]        \n",
    "        u_x = grad_u[:, [0]]\n",
    "        u_y = grad_u[:, [1]]\n",
    "        u_xx = grad(u_x, x)[0][:, [0]]\n",
    "        u_yy = grad(u_y, x)[0][:, [1]]\n",
    "\n",
    "        x.detach_()\n",
    "        x_ = x.cpu().numpy()        \n",
    "        a = problem.a(x_, verbose='tensor')\n",
    "        grad_a = problem.a(x_, order=1, verbose='tensor')\n",
    "        a_x = grad_a[:, [0]]\n",
    "        a_y = grad_a[:, [1]]\n",
    "\n",
    "        f = -( a * u_xx + a_x * u_x + a * u_yy + a_y * u_y )\n",
    "        \n",
    "        \n",
    "        if x_bc is not None:\n",
    "            g = super().forward(x_bc)\n",
    "            return u, f, g\n",
    "        return u, f"
   ]
  },
  {
   "cell_type": "code",
   "execution_count": 18,
   "metadata": {},
   "outputs": [],
   "source": [
    "class ResPINN(DNN):\n",
    "    \"\"\"Physics Constrained Neural Networks\n",
    "    \"\"\"\n",
    "    def __init__(self, dim_in, dim_out, dim_hidden, res_blocks, act_name='tanh', init_name='xavier_normal'):\n",
    "        super().__init__(dim_in, dim_out, dim_hidden, res_blocks, act_name=act_name, init_name=init_name)\n",
    "        \n",
    "    def forward(self, problem, x, x_bc=None):\n",
    "        x.requires_grad_(True)\n",
    "        u = super().forward(x)\n",
    "\n",
    "        grad_u = grad(u, x)[0]        \n",
    "        u_x = grad_u[:, [0]]\n",
    "        u_y = grad_u[:, [1]]\n",
    "        u_xx = grad(u_x, x)[0][:, [0]]\n",
    "        u_yy = grad(u_y, x)[0][:, [1]]\n",
    "\n",
    "        x.detach_()\n",
    "        x_ = x.cpu().numpy()        \n",
    "        a = problem.a(x_, verbose='tensor')\n",
    "        grad_a = problem.a(x_, order=1, verbose='tensor')\n",
    "        a_x = grad_a[:, [0]]\n",
    "        a_y = grad_a[:, [1]]\n",
    "\n",
    "        f = -( a * u_xx + a_x * u_x + a * u_yy + a_y * u_y )\n",
    "        \n",
    "        if x_bc is not None:\n",
    "            g = super().forward(x_bc)\n",
    "            return u, f, g\n",
    "        return u, f"
   ]
  },
  {
   "cell_type": "code",
   "execution_count": 19,
   "metadata": {},
   "outputs": [
    {
     "data": {
      "image/png": "[encoded data removed]",
      "text/plain": [
       "<Figure size 432x288 with 1 Axes>"
      ]
     },
     "metadata": {
      "needs_background": "light"
     },
     "output_type": "display_data"
    }
   ],
   "source": [
    "problem = Problem()\n",
    "trainset = Trainset(problem, 40, 40, method='uniform')\n",
    "#trainset = Trainset(problem, 1000, 400, method='lhs')\n",
    "\n",
    "x, x_bc, u, f, g = trainset(plot=True, verbose='tensor')"
   ]
  },
  {
   "cell_type": "code",
   "execution_count": 20,
   "metadata": {},
   "outputs": [
    {
     "name": "stdout",
     "output_type": "stream",
     "text": [
      "811\n",
      "torch.Size([1444, 1]) torch.Size([1444, 1]) torch.Size([156, 1])\n"
     ]
    }
   ],
   "source": [
    "model = PINN(2, 1, 10, 8)\n",
    "print(model.model_size())\n",
    "\n",
    "u_pred, f_pred, g_pred = model(problem, x, x_bc)\n",
    "print(u_pred.shape, f_pred.shape, g_pred.shape)"
   ]
  },
  {
   "cell_type": "code",
   "execution_count": 21,
   "metadata": {},
   "outputs": [
    {
     "name": "stdout",
     "output_type": "stream",
     "text": [
      "371\n",
      "torch.Size([1444, 1]) torch.Size([1444, 1]) torch.Size([156, 1])\n"
     ]
    }
   ],
   "source": [
    "model = ResPINN(2, 1, 10, 4)\n",
    "print(model.model_size())\n",
    "\n",
    "u_pred, f_pred, g_pred = model(problem, x, x_bc)\n",
    "print(u_pred.shape, f_pred.shape, g_pred.shape)"
   ]
  },
  {
   "cell_type": "markdown",
   "metadata": {},
   "source": [
    "## Options"
   ]
  },
  {
   "cell_type": "code",
   "execution_count": 22,
   "metadata": {},
   "outputs": [],
   "source": [
    "import argparse"
   ]
  },
  {
   "cell_type": "code",
   "execution_count": 23,
   "metadata": {},
   "outputs": [],
   "source": [
    "class Options(object):\n",
    "    def __init__(self):\n",
    "        parser = argparse.ArgumentParser()\n",
    "        parser.add_argument('--no_cuda', action='store_true', default=False, help='disable CUDA or not')\n",
    "        parser.add_argument('--dim_hidden', type=int, default=10, help='neurons in hidden layers')\n",
    "        parser.add_argument('--hidden_layers', type=int, default=4, help='number of hidden layers')\n",
    "        parser.add_argument('--res_blocks', type=int, default=4, help='number of residual blocks')\n",
    "        parser.add_argument('--dropout', type=float, default=0.5, help='dropout rate')\n",
    "        parser.add_argument('--lam', type=float, default=1, help='weight in loss function')\n",
    "        parser.add_argument('--lr', type=float, default=1e-3, help='initial learning rate')\n",
    "        parser.add_argument('--epochs_Adam', type=int, default=1000, help='epochs for Adam optimizer')\n",
    "        parser.add_argument('--epochs_LBFGS', type=int, default=200, help='epochs for LBFGS optimizer')\n",
    "        parser.add_argument('--step_size', type=int, default=2000, help='step size in lr_scheduler for Adam optimizer')\n",
    "        parser.add_argument('--gamma', type=float, default=0.7, help='gamma in lr_scheduler for Adam optimizer')\n",
    "        parser.add_argument('--resume', type=bool, default=False, help='resume or not')\n",
    "        parser.add_argument('--sample_method', type=str, default='lhs', help='sample method')\n",
    "        parser.add_argument('--n_x', type=int, default=100, help='sample points in x-direction for uniform sample')\n",
    "        parser.add_argument('--n_y', type=int, default=100, help='sample points in y-direction for uniform sample')\n",
    "        parser.add_argument('--n', type=int, default=10000, help='sample points in domain for lhs sample')\n",
    "        parser.add_argument('--n_bc', type=int, default=400, help='sample points on the boundary for lhs sample')\n",
    "        parser.add_argument('--case', type=int, default=1, help='problem case')\n",
    "        \n",
    "        self.parser = parser\n",
    "    def parse(self):\n",
    "        arg = self.parser.parse_args(args=[])\n",
    "        arg.cuda = not arg.no_cuda and torch.cuda.is_available()\n",
    "        arg.device = torch.device('cpu')#('cuda' if torch.cuda.is_available() else 'cpu')\n",
    "        return arg\n"
   ]
  },
  {
   "cell_type": "code",
   "execution_count": 24,
   "metadata": {},
   "outputs": [
    {
     "name": "stdout",
     "output_type": "stream",
     "text": [
      "Namespace(case=1, cuda=True, device=device(type='cpu'), dim_hidden=10, dropout=0.5, epochs_Adam=1000, epochs_LBFGS=200, gamma=0.7, hidden_layers=4, lam=1, lr=0.001, n=10000, n_bc=400, n_x=100, n_y=100, no_cuda=False, res_blocks=4, resume=False, sample_method='lhs', step_size=2000)\n"
     ]
    }
   ],
   "source": [
    "args = Options().parse()\n",
    "print(args)"
   ]
  },
  {
   "cell_type": "markdown",
   "metadata": {},
   "source": [
    "## Training Process"
   ]
  },
  {
   "cell_type": "code",
   "execution_count": 25,
   "metadata": {},
   "outputs": [],
   "source": [
    "def save_model(state, is_best=None, save_dir=None):\n",
    "    last_model = os.path.join(save_dir, 'last_model.pth.tar')\n",
    "    torch.save(state, last_model)\n",
    "    if is_best:\n",
    "        best_model = os.path.join(save_dir, 'best_model.pth.tar')\n",
    "        shutil.copyfile(last_model, best_model)"
   ]
  },
  {
   "cell_type": "code",
   "execution_count": 26,
   "metadata": {},
   "outputs": [],
   "source": [
    "class Trainer(object):\n",
    "    def __init__(self, args):\n",
    "        self.device  = args.device\n",
    "        self.problem = args.problem\n",
    "        \n",
    "        self.lam = args.lam\n",
    "        self.criterion = nn.MSELoss()\n",
    "        \n",
    "        self.model = args.model\n",
    "        self.model_name = self.model.__class__.__name__\n",
    "        self.model_path = self._model_path()\n",
    "                \n",
    "        self.epochs_Adam = args.epochs_Adam\n",
    "        self.epochs_LBFGS = args.epochs_LBFGS\n",
    "        self.optimizer_Adam = optim.Adam(self.model.parameters(), lr=args.lr)\n",
    "        self.optimizer_LBFGS = optim.LBFGS(self.model.parameters(), max_iter=20, tolerance_grad=1.e-8, tolerance_change=1.e-12)\n",
    "        self.lr_scheduler = StepLR(self.optimizer_Adam, step_size=args.step_size, gamma=args.gamma)\n",
    "\n",
    "        self.model.to(self.device)\n",
    "        self.model.zero_grad()\n",
    "        \n",
    "        self.x,     self.x_bc,     _, self.f,     self.g     = args.trainset(verbose='tensor')\n",
    "        self.x_val, self.x_bc_val, _, self.f_val, self.g_val = args.validset(verbose='tensor')\n",
    "        \n",
    "        if self.device == torch.device(type='cuda'):\n",
    "            for item in [self.x, self.x_bc, self.f, self.g, self.x_val, self.x_bc_val, self.f_val, self.g_val]:\n",
    "                item = item.to(self.device)\n",
    "        \n",
    "    def _model_path(self):\n",
    "        \"\"\"Path to save the model\"\"\"\n",
    "        if not os.path.exists('checkpoints'):\n",
    "            os.mkdir('checkpoints')\n",
    "\n",
    "        path = os.path.join('checkpoints', self.model_name)\n",
    "        if not os.path.exists(path):\n",
    "            os.mkdir(path)\n",
    "    \n",
    "        return path\n",
    "    \n",
    "    def train(self):\n",
    "        best_loss = 1.e10\n",
    "        \n",
    "        for epoch in range(self.epochs_Adam):\n",
    "            loss, loss1, loss2 = self.train_Adam()\n",
    "            if (epoch + 1) % 100 == 0:\n",
    "                self.infos_Adam(epoch+1, loss, loss1, loss2)\n",
    "                \n",
    "                valid_loss = self.validate(epoch)\n",
    "                is_best = valid_loss < best_loss\n",
    "                best_loss = valid_loss if is_best else best_loss                \n",
    "                state = {\n",
    "                    'epoch': epoch,\n",
    "                    'state_dict': self.model.state_dict(),\n",
    "                    'best_loss': best_loss\n",
    "                }\n",
    "                save_model(state, is_best, save_dir=self.model_path)\n",
    "                \n",
    "            \n",
    "        for epoch in range(self.epochs_Adam, self.epochs_Adam + self.epochs_LBFGS):\n",
    "            loss, loss1, loss2 = self.train_LBFGS()\n",
    "            if (epoch + 1) % 20 == 0:\n",
    "                self.infos_LBFGS(epoch+1, loss, loss1, loss2)\n",
    "                \n",
    "                valid_loss = self.validate(epoch)\n",
    "                is_best = valid_loss < best_loss\n",
    "                best_loss = valid_loss if is_best else best_loss                \n",
    "                state = {\n",
    "                    'epoch': epoch,\n",
    "                    'state_dict': self.model.state_dict(),\n",
    "                    'best_loss': best_loss\n",
    "                }\n",
    "                save_model(state, is_best, save_dir=self.model_path)\n",
    "            \n",
    "    def train_Adam(self):\n",
    "        self.optimizer_Adam.zero_grad()\n",
    "\n",
    "        _, f_pred, g_pred = self.model(self.problem, self.x, self.x_bc)\n",
    "        loss1 = self.criterion(f_pred, self.f)\n",
    "        loss2 = self.criterion(g_pred, self.g)\n",
    "        loss = loss1 + self.lam * loss2\n",
    "\n",
    "        loss.backward()\n",
    "        self.optimizer_Adam.step()\n",
    "        self.lr_scheduler.step()\n",
    "\n",
    "        return loss.item(), loss1.item(), loss2.item()\n",
    "\n",
    "    def infos_Adam(self, epoch, loss, loss1, loss2):\n",
    "        infos = 'Adam  ' + \\\n",
    "            f'Epoch #{epoch:5d}/{self.epochs_Adam+self.epochs_LBFGS} ' + \\\n",
    "            f'Loss: {loss:.4e} = {loss1:.4e} + {self.lam} * {loss2:.4e} ' + \\\n",
    "            f'lr: {self.lr_scheduler.get_lr()[0]:.2e} '\n",
    "        print(infos)\n",
    "        \n",
    "    def train_LBFGS(self):\n",
    "\n",
    "        # only used to compute loss_int and loss_bc1 for monitoring\n",
    "        _, f_pred, g_pred = self.model(self.problem, self.x, self.x_bc)\n",
    "        loss1 = self.criterion(f_pred, self.f)\n",
    "        loss2 = self.criterion(g_pred, self.g)\n",
    "\n",
    "        def closure():\n",
    "            if torch.is_grad_enabled():\n",
    "                self.optimizer_LBFGS.zero_grad()\n",
    "            _, f_pred, g_pred = self.model(self.problem, self.x, self.x_bc)               \n",
    "            loss1 = self.criterion(f_pred, self.f)\n",
    "            loss2 = self.criterion(g_pred, self.g)\n",
    "            loss = loss1 + self.lam * loss2\n",
    "            if loss.requires_grad:\n",
    "                loss.backward()\n",
    "            return loss\n",
    "\n",
    "        self.optimizer_LBFGS.step(closure)\n",
    "        loss = closure()\n",
    "\n",
    "        return loss.item(), loss1.item(), loss2.item()\n",
    "        \n",
    "    def infos_LBFGS(self, epoch, loss, loss1, loss2):\n",
    "        infos = 'LBFGS ' + \\\n",
    "            f'Epoch #{epoch:5d}/{self.epochs_Adam+self.epochs_LBFGS} ' + \\\n",
    "            f'Loss: {loss:.2e} = {loss1:.2e} + {self.lam:d} * {loss2:.2e} '\n",
    "        print(infos)\n",
    "\n",
    "    def validate(self, epoch):\n",
    "        self.model.eval()\n",
    "        _, f_pred, g_pred = self.model(self.problem, self.x_val, self.x_bc_val)\n",
    "        loss1 = self.criterion(f_pred, self.f_val)\n",
    "        loss2 = self.criterion(g_pred, self.g_val)\n",
    "        loss = loss1 + self.lam * loss2\n",
    "        \n",
    "        infos = 'Valid ' + \\\n",
    "            f'Epoch #{epoch+1:5d}/{self.epochs_Adam+self.epochs_LBFGS} ' + \\\n",
    "            f'Loss: {loss:.4e} '\n",
    "        print(infos)\n",
    "        self.model.train()\n",
    "        return loss.item()"
   ]
  },
  {
   "cell_type": "code",
   "execution_count": 27,
   "metadata": {},
   "outputs": [
    {
     "name": "stderr",
     "output_type": "stream",
     "text": [
      "d:\\program files (x86)\\python\\lib\\site-packages\\torch\\optim\\lr_scheduler.py:351: UserWarning: To get the last learning rate computed by the scheduler, please use `get_last_lr()`.\n",
      "  \"please use `get_last_lr()`.\", UserWarning)\n"
     ]
    },
    {
     "name": "stdout",
     "output_type": "stream",
     "text": [
      "Adam  Epoch #  100/1200 Loss: 1.0112e+03 = 1.0090e+03 + 1 * 2.1233e+00 lr: 1.00e-03 \n",
      "Valid Epoch #  100/1200 Loss: 1.0228e+03 \n",
      "Adam  Epoch #  200/1200 Loss: 7.8120e+02 = 7.7994e+02 + 1 * 1.2628e+00 lr: 1.00e-03 \n",
      "Valid Epoch #  200/1200 Loss: 7.8454e+02 \n",
      "Adam  Epoch #  300/1200 Loss: 6.9282e+02 = 6.9208e+02 + 1 * 7.4079e-01 lr: 1.00e-03 \n",
      "Valid Epoch #  300/1200 Loss: 6.9761e+02 \n",
      "Adam  Epoch #  400/1200 Loss: 3.9930e+02 = 3.9827e+02 + 1 * 1.0290e+00 lr: 1.00e-03 \n",
      "Valid Epoch #  400/1200 Loss: 4.0031e+02 \n",
      "Adam  Epoch #  500/1200 Loss: 1.3553e+02 = 1.3385e+02 + 1 * 1.6734e+00 lr: 1.00e-03 \n",
      "Valid Epoch #  500/1200 Loss: 1.2861e+02 \n",
      "Adam  Epoch #  600/1200 Loss: 5.9201e+01 = 5.7857e+01 + 1 * 1.3436e+00 lr: 1.00e-03 \n",
      "Valid Epoch #  600/1200 Loss: 5.4779e+01 \n",
      "Adam  Epoch #  700/1200 Loss: 4.1776e+01 = 4.0504e+01 + 1 * 1.2714e+00 lr: 1.00e-03 \n",
      "Valid Epoch #  700/1200 Loss: 3.8409e+01 \n",
      "Adam  Epoch #  800/1200 Loss: 3.3064e+01 = 3.1916e+01 + 1 * 1.1479e+00 lr: 1.00e-03 \n",
      "Valid Epoch #  800/1200 Loss: 3.0161e+01 \n",
      "Adam  Epoch #  900/1200 Loss: 2.5360e+01 = 2.4403e+01 + 1 * 9.5646e-01 lr: 1.00e-03 \n",
      "Valid Epoch #  900/1200 Loss: 2.2906e+01 \n",
      "Adam  Epoch # 1000/1200 Loss: 1.8225e+01 = 1.7440e+01 + 1 * 7.8541e-01 lr: 1.00e-03 \n",
      "Valid Epoch # 1000/1200 Loss: 1.6273e+01 \n",
      "LBFGS Epoch # 1020/1200 Loss: 1.39e-01 = 1.05e-01 + 1 * 4.50e-02 \n",
      "Valid Epoch # 1020/1200 Loss: 1.2424e-01 \n",
      "LBFGS Epoch # 1040/1200 Loss: 5.04e-02 = 3.51e-02 + 1 * 1.59e-02 \n",
      "Valid Epoch # 1040/1200 Loss: 4.5711e-02 \n",
      "LBFGS Epoch # 1060/1200 Loss: 2.91e-02 = 1.81e-02 + 1 * 1.15e-02 \n",
      "Valid Epoch # 1060/1200 Loss: 2.6954e-02 \n",
      "LBFGS Epoch # 1080/1200 Loss: 1.98e-02 = 1.13e-02 + 1 * 8.68e-03 \n",
      "Valid Epoch # 1080/1200 Loss: 1.8457e-02 \n",
      "LBFGS Epoch # 1100/1200 Loss: 1.54e-02 = 7.04e-03 + 1 * 8.54e-03 \n",
      "Valid Epoch # 1100/1200 Loss: 1.4276e-02 \n",
      "LBFGS Epoch # 1120/1200 Loss: 1.28e-02 = 5.11e-03 + 1 * 7.96e-03 \n",
      "Valid Epoch # 1120/1200 Loss: 1.1944e-02 \n",
      "LBFGS Epoch # 1140/1200 Loss: 1.03e-02 = 3.81e-03 + 1 * 6.57e-03 \n",
      "Valid Epoch # 1140/1200 Loss: 9.6948e-03 \n",
      "LBFGS Epoch # 1160/1200 Loss: 8.32e-03 = 3.38e-03 + 1 * 5.00e-03 \n",
      "Valid Epoch # 1160/1200 Loss: 7.8403e-03 \n",
      "LBFGS Epoch # 1180/1200 Loss: 7.36e-03 = 2.61e-03 + 1 * 4.78e-03 \n",
      "Valid Epoch # 1180/1200 Loss: 7.0221e-03 \n",
      "LBFGS Epoch # 1200/1200 Loss: 6.49e-03 = 2.39e-03 + 1 * 4.13e-03 \n",
      "Valid Epoch # 1200/1200 Loss: 6.2401e-03 \n"
     ]
    }
   ],
   "source": [
    "args = Options().parse()\n",
    "args.problem = Problem()\n",
    "#args.model = PINN(dim_in=2,\n",
    "#                  dim_out=1,\n",
    "#                  dim_hidden=args.dim_hidden,\n",
    " #                 hidden_layers=args.hidden_layers,\n",
    " #                 act_name='sin',\n",
    " #                 dropout=args.dropout)\n",
    "\n",
    "args.model = PINN(2, 1, dim_hidden=args.dim_hidden, hidden_layers=args.hidden_layers)\n",
    "if args.sample_method == 'uniform':\n",
    "    args.trainset = Trainset(args.problem, args.n_x, args.n_y, method='uniform')\n",
    "elif args.sample_method == 'lhs':\n",
    "    args.trainset = Trainset(args.problem, args.n, args.n_bc, method='lhs')\n",
    "\n",
    "args.validset = Trainset(args.problem, 100, 100, method='uniform')\n",
    "    \n",
    "trainer = Trainer(args)\n",
    "trainer.train()\n"
   ]
  },
  {
   "cell_type": "markdown",
   "metadata": {},
   "source": [
    "# Test Process "
   ]
  },
  {
   "cell_type": "code",
   "execution_count": 28,
   "metadata": {},
   "outputs": [],
   "source": [
    "class Tester(object):\n",
    "    def __init__(self, args):\n",
    "        self.device  = args.device\n",
    "        self.problem = args.problem\n",
    "        self.criterion = nn.MSELoss()\n",
    "        self.model = args.model\n",
    "        model_name = self.model.__class__.__name__\n",
    "        model_path = os.path.join('checkpoints',\n",
    "                                  model_name,\n",
    "                                  'best_model.pth.tar')\n",
    "        best_model = torch.load(model_path)\n",
    "        self.model.load_state_dict(best_model['state_dict'])        \n",
    "        self.model.to(self.device)\n",
    "        self.X, self.x, self.y, self.u = args.testset(verbose='tensor')\n",
    "        if self.device == torch.device(type='cuda'):\n",
    "            self.X = self.X.to(self.device)\n",
    "    \n",
    "    def predict(self):\n",
    "        self.model.eval()\n",
    "        u_pred, _ = self.model(self.problem, self.X)\n",
    "        u_pred = u_pred.detach().cpu().numpy()\n",
    "        u_pred = u_pred.reshape(self.x.shape)\n",
    "        \n",
    "        fig = plt.figure()\n",
    "        ax = fig.add_subplot(131, projection='3d')\n",
    "        ax.plot_surface(self.x, self.y, self.u, cmap=cm.coolwarm)\n",
    "        ax = fig.add_subplot(132, projection='3d')\n",
    "        ax.plot_surface(self.x, self.y, u_pred, cmap=cm.coolwarm)\n",
    "        ax = fig.add_subplot(133, projection='3d')\n",
    "        ax.plot_surface(self.x, self.y, np.abs(u_pred-self.u), cmap=cm.coolwarm)\n",
    "        plt.show()"
   ]
  },
  {
   "cell_type": "code",
   "execution_count": 29,
   "metadata": {},
   "outputs": [
    {
     "data": {
      "image/png": "[encoded data removed]",
      "text/plain": [
       "<Figure size 432x288 with 3 Axes>"
      ]
     },
     "metadata": {
      "needs_background": "light"
     },
     "output_type": "display_data"
    }
   ],
   "source": [
    "args = Options().parse()\n",
    "args.problem = Problem()\n",
    "\n",
    "args.model = ResPINN(2, 1, dim_hidden=args.dim_hidden, res_blocks=args.res_blocks)\n",
    "args.testset = Testset(args.problem, 100, 100, method='uniform')  \n",
    "tester = Tester(args)\n",
    "tester.predict()"
   ]
  }
 ],
 "metadata": {
  "kernelspec": {
   "display_name": "Python 3",
   "language": "python",
   "name": "python3"
  },
  "language_info": {
   "codemirror_mode": {
    "name": "ipython",
    "version": 3
   },
   "file_extension": ".py",
   "mimetype": "text/x-python",
   "name": "python",
   "nbconvert_exporter": "python",
   "pygments_lexer": "ipython3",
   "version": "3.7.2"
  }
 },
 "nbformat": 4,
 "nbformat_minor": 2
}
