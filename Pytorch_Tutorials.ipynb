{
 "cells": [
  {
   "cell_type": "markdown",
   "metadata": {},
   "source": [
    "# pytorch简介"
   ]
  },
  {
   "cell_type": "code",
   "execution_count": 13,
   "metadata": {},
   "outputs": [],
   "source": [
    "import numpy as np\n",
    "import matplotlib.pyplot as plt\n",
    "from mpl_toolkits.mplot3d import Axes3D\n",
    "\n",
    "import torch\n",
    "import torch.nn as nn\n",
    "import torch.nn.functional as F"
   ]
  },
  {
   "cell_type": "code",
   "execution_count": 14,
   "metadata": {},
   "outputs": [],
   "source": [
    "# 随机数设置种子\n",
    "torch.manual_seed(123)\n",
    "np.random.seed(123)"
   ]
  },
  {
   "cell_type": "markdown",
   "metadata": {},
   "source": [
    "神经网络模型\n",
    "\n",
    "$y = f(x;\\theta)$\n",
    "\n",
    "$L = Loss(y,t)$\n",
    "\n",
    "$\\min L(\\theta)$\n",
    "\n",
    "$\\theta^{k+1} = \\theta^k-\\eta \\nabla L(\\theta^k)\\ k=0,1,2,...$"
   ]
  },
  {
   "cell_type": "markdown",
   "metadata": {},
   "source": [
    "## torch tensor and numpy ndarray"
   ]
  },
  {
   "cell_type": "code",
   "execution_count": 16,
   "metadata": {},
   "outputs": [
    {
     "name": "stdout",
     "output_type": "stream",
     "text": [
      "x_numpy = [0.1 0.2 0.3], y_numpy = [1. 2. 3.]\n",
      "x_torch = tensor([0.1000, 0.2000, 0.3000]), y_torch = tensor([1., 2., 3.])\n"
     ]
    }
   ],
   "source": [
    "x_numpy = np.array([0.1, 0.2, 0.3]) # 通过列表构造一个数组\n",
    "y_numpy = np.array([1., 2., 3.])\n",
    "\n",
    "x_torch = torch.tensor([0.1, 0.2, 0.3])\n",
    "y_torch = torch.tensor([1., 2., 3.])\n",
    "print(f'x_numpy = {x_numpy}, y_numpy = {y_numpy}')\n",
    "print(f'x_torch = {x_torch}, y_torch = {y_torch}')"
   ]
  },
  {
   "cell_type": "code",
   "execution_count": 11,
   "metadata": {},
   "outputs": [
    {
     "name": "stdout",
     "output_type": "stream",
     "text": [
      "2\n",
      "tensor([0.1000, 0.2000, 0.3000], requires_grad=True)\n"
     ]
    }
   ],
   "source": [
    "#dir(x_numpy) # 包含了大量的方法\n",
    "#print(x_numpy.argmax())\n",
    "#dir(x_torch) # 多出来一些方法\n",
    "#x_torch = torch.tensor([0.1,0.2,0.3],requires_grad=True)\n",
    "#print(x_torch)"
   ]
  },
  {
   "cell_type": "markdown",
   "metadata": {},
   "source": [
    "### 相互转换"
   ]
  },
  {
   "cell_type": "code",
   "execution_count": 17,
   "metadata": {},
   "outputs": [
    {
     "name": "stdout",
     "output_type": "stream",
     "text": [
      "tensor([0.1000, 0.2000, 0.3000], dtype=torch.float64)\n",
      "[0.1 0.2 0.3]\n"
     ]
    }
   ],
   "source": [
    "print(torch.from_numpy(x_numpy))\n",
    "print(x_torch.numpy())\n",
    "# matplotlib只能处理numpy数组绘图"
   ]
  },
  {
   "cell_type": "markdown",
   "metadata": {},
   "source": [
    "### 四则运算"
   ]
  },
  {
   "cell_type": "code",
   "execution_count": 18,
   "metadata": {},
   "outputs": [
    {
     "name": "stdout",
     "output_type": "stream",
     "text": [
      "[1.1 2.2 3.3] tensor([1.1000, 2.2000, 3.3000])\n",
      "[-0.9 -1.8 -2.7] tensor([-0.9000, -1.8000, -2.7000])\n",
      "[0.1 0.4 0.9] tensor([0.1000, 0.4000, 0.9000])\n",
      "[0.1 0.1 0.1] tensor([0.1000, 0.1000, 0.1000])\n"
     ]
    }
   ],
   "source": [
    "print(x_numpy + y_numpy, x_torch + y_torch)\n",
    "print(x_numpy - y_numpy, x_torch - y_torch)\n",
    "print(x_numpy * y_numpy, x_torch * y_torch)\n",
    "print(x_numpy / y_numpy, x_torch / y_torch)"
   ]
  },
  {
   "cell_type": "markdown",
   "metadata": {},
   "source": [
    "### 范数(norm)"
   ]
  },
  {
   "cell_type": "code",
   "execution_count": 22,
   "metadata": {},
   "outputs": [
    {
     "name": "stdout",
     "output_type": "stream",
     "text": [
      "0.37416573867739417 tensor(0.3742)\n"
     ]
    }
   ],
   "source": [
    "print(np.linalg.norm(x_numpy), torch.norm(x_torch))"
   ]
  },
  {
   "cell_type": "markdown",
   "metadata": {},
   "source": [
    "### 对某个维度做操作"
   ]
  },
  {
   "cell_type": "code",
   "execution_count": 25,
   "metadata": {},
   "outputs": [
    {
     "name": "stdout",
     "output_type": "stream",
     "text": [
      "2.5 tensor(2.5000)\n",
      "[2. 3.] tensor([2., 3.])\n",
      "[1.5 3.5] tensor([1.5000, 3.5000])\n"
     ]
    }
   ],
   "source": [
    "x_numpy = np.array([[1, 2], \n",
    "                    [3, 4]]).astype(float)\n",
    "x_torch = torch.tensor([[1, 2],\n",
    "                        [3, 4]]).float()\n",
    "print(np.mean(x_numpy), torch.mean(x_torch))\n",
    "# numpy用axis指定，pytorch用dim指定\n",
    "print(np.mean(x_numpy, axis=0), torch.mean(x_torch, dim=0)) # 按列\n",
    "print(np.mean(x_numpy, axis=1), torch.mean(x_torch, dim=1)) # 按行"
   ]
  },
  {
   "cell_type": "code",
   "execution_count": 27,
   "metadata": {},
   "outputs": [
    {
     "name": "stdout",
     "output_type": "stream",
     "text": [
      "10.0 tensor(10.)\n",
      "[4. 6.] tensor([4., 6.])\n",
      "[3. 7.] tensor([3., 7.])\n"
     ]
    }
   ],
   "source": [
    "print(np.sum(x_numpy), torch.sum(x_torch))\n",
    "print(np.sum(x_numpy, axis=0), torch.sum(x_torch, dim=0))\n",
    "print(np.sum(x_numpy, axis=1), torch.sum(x_torch, dim=1))"
   ]
  },
  {
   "cell_type": "markdown",
   "metadata": {},
   "source": [
    "### 改变形状"
   ]
  },
  {
   "cell_type": "code",
   "execution_count": 53,
   "metadata": {},
   "outputs": [
    {
     "name": "stdout",
     "output_type": "stream",
     "text": [
      "4 4\n",
      "(1000, 3, 28, 28) torch.Size([1000, 3, 28, 28])\n",
      "(1000, 3, 784) torch.Size([1000, 3, 784])\n",
      "(3000, 28, 28) torch.Size([3000, 28, 28])\n"
     ]
    }
   ],
   "source": [
    "N, C, H, W = 1000, 3, 28, 28 # 类似元组打包解包功能\n",
    "# N: 每次送到GPU中计算的图象数\n",
    "# C: 图象通道数量\n",
    "# H; 图象高度\n",
    "# W: 图象宽度\n",
    "\n",
    "X_numpy = np.random.randn(N, C, H, W) # 创建N*X*H*W规模的数组\n",
    "X_torch = torch.randn((N, C, H, W))\n",
    "\n",
    "print(X_numpy.ndim, X_torch.ndim)\n",
    "print(X_numpy.shape, X_torch.shape)\n",
    "print(X_numpy.reshape(N, C, -1).shape, X_torch.view(N, C, -1).shape) # -1表示第三维自己计算，N*W\n",
    "print(X_numpy.reshape(-1, H, W).shape, X_torch.view(-1, H, W).shape) # -1表示第一维自己计算，N*C"
   ]
  },
  {
   "cell_type": "markdown",
   "metadata": {},
   "source": [
    "### 增加维度"
   ]
  },
  {
   "cell_type": "code",
   "execution_count": 28,
   "metadata": {},
   "outputs": [
    {
     "name": "stdout",
     "output_type": "stream",
     "text": [
      "(1, 2, 3)\n",
      "(2, 1, 3)\n",
      "(2, 3, 1)\n"
     ]
    }
   ],
   "source": [
    "x_numpy = np.array([[1, 2, 3], \n",
    "                    [2, 3, 4]])\n",
    "print(np.expand_dims(x_numpy, axis=0).shape)\n",
    "print(np.expand_dims(x_numpy, axis=1).shape)\n",
    "print(np.expand_dims(x_numpy, axis=-1).shape)"
   ]
  },
  {
   "cell_type": "code",
   "execution_count": 30,
   "metadata": {},
   "outputs": [
    {
     "name": "stdout",
     "output_type": "stream",
     "text": [
      "torch.Size([1, 2, 3])\n",
      "torch.Size([2, 1, 3])\n",
      "torch.Size([2, 3, 1])\n",
      "torch.Size([1, 2, 3])\n",
      "torch.Size([2, 1, 3])\n",
      "torch.Size([2, 3, 1])\n"
     ]
    }
   ],
   "source": [
    "x_torch = torch.tensor([[1, 2, 3], \n",
    "                        [2, 3, 4]])\n",
    "print(x_torch.unsqueeze(0).shape)\n",
    "print(x_torch.unsqueeze(1).shape)\n",
    "print(x_torch.unsqueeze(-1).shape)\n",
    "\n",
    "print(torch.unsqueeze(x_torch, dim=0).shape)\n",
    "print(torch.unsqueeze(x_torch, dim=1).shape)\n",
    "print(torch.unsqueeze(x_torch, dim=-1).shape)"
   ]
  },
  {
   "cell_type": "markdown",
   "metadata": {},
   "source": [
    "### 减小维度"
   ]
  },
  {
   "cell_type": "code",
   "execution_count": 31,
   "metadata": {},
   "outputs": [
    {
     "name": "stdout",
     "output_type": "stream",
     "text": [
      "(1, 2, 3)\n",
      "(2, 3)\n"
     ]
    }
   ],
   "source": [
    "x_numpy = np.array([[[1, 2, 3], \n",
    "                     [2, 3, 4]]])\n",
    "print(x_numpy.shape)\n",
    "print(np.squeeze(x_numpy).shape)"
   ]
  },
  {
   "cell_type": "code",
   "execution_count": 32,
   "metadata": {},
   "outputs": [
    {
     "name": "stdout",
     "output_type": "stream",
     "text": [
      "torch.Size([1, 2, 3])\n",
      "torch.Size([2, 3])\n",
      "torch.Size([2, 3])\n"
     ]
    }
   ],
   "source": [
    "x_torch = torch.tensor([[[1, 2, 3], \n",
    "                         [2, 3, 4]]])\n",
    "print(x_torch.shape)\n",
    "print(torch.squeeze(x_torch).shape)\n",
    "print(x_torch.squeeze().shape)"
   ]
  },
  {
   "cell_type": "markdown",
   "metadata": {},
   "source": [
    "### 自动微分(Autograd)"
   ]
  },
  {
   "cell_type": "markdown",
   "metadata": {},
   "source": [
    "* 计算$e = f(a, b) = (a+b)(b+1)$的梯度\n",
    "$$\n",
    "\\nabla f = \\left(\n",
    "\\begin{array}{c}\n",
    "a + 1 \\\\\n",
    "a+ 2b+1\n",
    "\\end{array}\n",
    "\\right)\n",
    "$$\n",
    "如\n",
    "$$\n",
    "\\nabla f\\big|_{(3, 2)}= \\left(\n",
    "\\begin{array}{c}\n",
    "3 \\\\\n",
    "8\n",
    "\\end{array}\n",
    "\\right)\n",
    "$$"
   ]
  },
  {
   "cell_type": "code",
   "execution_count": 34,
   "metadata": {},
   "outputs": [],
   "source": [
    "def f(x):\n",
    "    return (x[0]+x[1])*(x[1]+1)\n",
    "def grad_f(x):\n",
    "    return x[1]+1, x[0] + 2*x[1] + 1"
   ]
  },
  {
   "cell_type": "code",
   "execution_count": 40,
   "metadata": {},
   "outputs": [
    {
     "name": "stdout",
     "output_type": "stream",
     "text": [
      "analytic grad_f: (tensor(3.7178, grad_fn=<SubBackward0>), tensor(5.0100, grad_fn=<AddBackward0>))\n",
      "autograd grad_f: tensor([3.7178, 5.0100])\n"
     ]
    }
   ],
   "source": [
    "x = torch.tensor([3., 2.], requires_grad=True)\n",
    "e = f(x) # 向前传播\n",
    "e.backward() # 反向传播，整型数不能做反向传播\n",
    "print(f'analytic grad_f: {grad_f(x)}')\n",
    "print(f'autograd grad_f: {x.grad}')"
   ]
  },
  {
   "cell_type": "markdown",
   "metadata": {},
   "source": [
    "<img src='images/3.png'>"
   ]
  },
  {
   "cell_type": "markdown",
   "metadata": {},
   "source": [
    "<img src='images/4.png'>"
   ]
  },
  {
   "cell_type": "markdown",
   "metadata": {},
   "source": [
    "* 令$\\vec x=(x_1, x_2)^T$，计算函数\n",
    "$$\n",
    "f(\\vec x) = 2 x_1x_2 + x_2 \\cos(x_1) \n",
    "$$\n",
    "的梯度\n",
    "$$\n",
    "\\nabla f = \\left(\n",
    "\\begin{array}{c}\n",
    "2x_2 -x_2 \\sin x_1 \\\\\n",
    "2x_1 + \\cos x_1\n",
    "\\end{array}\n",
    "\\right)\n",
    "$$\n",
    "如\n",
    "$$\n",
    "\\nabla f\\big|_{(\\pi, 1)} = \\left(\n",
    "\\begin{array}{c}\n",
    "2 \\\\\n",
    "2\\pi-1\n",
    "\\end{array}\n",
    "\\right)\n",
    "$$\n"
   ]
  },
  {
   "cell_type": "code",
   "execution_count": 45,
   "metadata": {},
   "outputs": [],
   "source": [
    "def f(x):\n",
    "    return 2*x[0]*x[1] + x[1] * torch.cos(x[0])\n",
    "def grad_f(x):\n",
    "    return 2*x[1]-x[1]*torch.sin(x[0]), 2*x[0]+torch.cos(x[0])"
   ]
  },
  {
   "cell_type": "code",
   "execution_count": 46,
   "metadata": {},
   "outputs": [
    {
     "name": "stdout",
     "output_type": "stream",
     "text": [
      "analytic grad_f: (tensor(2., grad_fn=<SubBackward0>), tensor(5.2832, grad_fn=<AddBackward0>))\n",
      "autograd grad_f: tensor([2.0000, 5.2832])\n"
     ]
    }
   ],
   "source": [
    "x = torch.tensor([np.pi, 1], requires_grad=True)\n",
    "y = f(x)\n",
    "y.backward()\n",
    "\n",
    "print(f'analytic grad_f: {grad_f(x)}')\n",
    "print(f'autograd grad_f: {x.grad}')"
   ]
  },
  {
   "cell_type": "markdown",
   "metadata": {},
   "source": [
    "* 计算$f(x) = (x-2)^2$的导数$f^\\prime(x)=2(x-2)$"
   ]
  },
  {
   "cell_type": "code",
   "execution_count": 49,
   "metadata": {},
   "outputs": [],
   "source": [
    "def f(x):\n",
    "    return (x-2)**2\n",
    "\n",
    "def f_prime(x):\n",
    "    return 2*(x-2)"
   ]
  },
  {
   "cell_type": "code",
   "execution_count": 50,
   "metadata": {},
   "outputs": [
    {
     "name": "stdout",
     "output_type": "stream",
     "text": [
      "analytic f_prime: tensor([-2.], grad_fn=<MulBackward0>)\n",
      "autograd f_prime: tensor([-2.])\n"
     ]
    }
   ],
   "source": [
    "x = torch.tensor([1.0], requires_grad=True)\n",
    "y = f(x)\n",
    "y.backward()\n",
    "\n",
    "print(f'analytic f_prime: {f_prime(x)}')\n",
    "print(f'autograd f_prime: {x.grad}')\n"
   ]
  },
  {
   "cell_type": "code",
   "execution_count": 61,
   "metadata": {},
   "outputs": [
    {
     "data": {
      "image/png": "[encoded data removed]",
      "text/plain": [
       "<Figure size 432x288 with 1 Axes>"
      ]
     },
     "metadata": {
      "needs_background": "light"
     },
     "output_type": "display_data"
    }
   ],
   "source": [
    "import matplotlib.pyplot as plt\n",
    "x = np.linspace(0,4)\n",
    "y = f(x)\n",
    "plt.plot(x,y)\n",
    "plt.show()"
   ]
  },
  {
   "cell_type": "markdown",
   "metadata": {},
   "source": [
    "### 利用Autograd算得的梯度实现梯度下降法"
   ]
  },
  {
   "cell_type": "markdown",
   "metadata": {},
   "source": [
    "求函数$f(x)=(x-2)^2$的极小值点。"
   ]
  },
  {
   "cell_type": "code",
   "execution_count": 62,
   "metadata": {},
   "outputs": [
    {
     "name": "stdout",
     "output_type": "stream",
     "text": [
      "iter\tx\tf(x)\tf'(x)\tf'(x) pytorch\n",
      "0\t1.000\t1.000\t-2.000\t-2.000\n",
      "1\t1.200\t0.640\t-1.600\t-1.600\n",
      "2\t1.360\t0.410\t-1.280\t-1.280\n",
      "3\t1.488\t0.262\t-1.024\t-1.024\n",
      "4\t1.590\t0.168\t-0.819\t-0.819\n",
      "5\t1.672\t0.107\t-0.655\t-0.655\n",
      "6\t1.738\t0.069\t-0.524\t-0.524\n",
      "7\t1.790\t0.044\t-0.419\t-0.419\n",
      "8\t1.832\t0.028\t-0.336\t-0.336\n",
      "9\t1.866\t0.018\t-0.268\t-0.268\n",
      "10\t1.893\t0.012\t-0.215\t-0.215\n",
      "11\t1.914\t0.007\t-0.172\t-0.172\n",
      "12\t1.931\t0.005\t-0.137\t-0.137\n",
      "13\t1.945\t0.003\t-0.110\t-0.110\n",
      "14\t1.956\t0.002\t-0.088\t-0.088\n",
      "15\t1.965\t0.001\t-0.070\t-0.070\n",
      "16\t1.972\t0.001\t-0.056\t-0.056\n",
      "17\t1.977\t0.001\t-0.045\t-0.045\n",
      "18\t1.982\t0.000\t-0.036\t-0.036\n",
      "19\t1.986\t0.000\t-0.029\t-0.029\n"
     ]
    }
   ],
   "source": [
    "x = torch.tensor([1.], requires_grad=True)\n",
    "learning_rate =  0.1\n",
    "\n",
    "print(\"iter\\tx\\tf(x)\\tf'(x)\\tf'(x) pytorch\")\n",
    "for i in range(20):\n",
    "    y = f(x)\n",
    "    y.backward()\n",
    "    \n",
    "    print(f\"{i}\\t{x.item():.3f}\\t{y.item():.3f}\\t{f_prime(x).item():.3f}\\t{x.grad.item():.3f}\")\n",
    "    x.data -= learning_rate * x.grad # 迭代\n",
    "    x.grad.detach_()\n",
    "    x.grad.zero_() # 必须做，否则会把历次的梯度累加，清空x.grad"
   ]
  },
  {
   "cell_type": "code",
   "execution_count": null,
   "metadata": {},
   "outputs": [],
   "source": []
  },
  {
   "cell_type": "code",
   "execution_count": null,
   "metadata": {},
   "outputs": [],
   "source": []
  }
 ],
 "metadata": {
  "kernelspec": {
   "display_name": "Python 3",
   "language": "python",
   "name": "python3"
  },
  "language_info": {
   "codemirror_mode": {
    "name": "ipython",
    "version": 3
   },
   "file_extension": ".py",
   "mimetype": "text/x-python",
   "name": "python",
   "nbconvert_exporter": "python",
   "pygments_lexer": "ipython3",
   "version": "3.7.2"
  }
 },
 "nbformat": 4,
 "nbformat_minor": 2
}
