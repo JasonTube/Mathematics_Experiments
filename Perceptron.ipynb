{
 "cells": [
  {
   "cell_type": "markdown",
   "metadata": {},
   "source": [
    "# 感知机算法"
   ]
  },
  {
   "cell_type": "code",
   "execution_count": 15,
   "metadata": {},
   "outputs": [],
   "source": [
    "import numpy as np\n",
    "import matplotlib.pyplot as plt\n",
    "%matplotlib inline"
   ]
  },
  {
   "cell_type": "code",
   "execution_count": 16,
   "metadata": {},
   "outputs": [
    {
     "name": "stdout",
     "output_type": "stream",
     "text": [
      "2\n"
     ]
    }
   ],
   "source": [
    "i = np.random.choice(5) # 从0-4随机挑一个值\n",
    "print(i)"
   ]
  },
  {
   "cell_type": "code",
   "execution_count": 2,
   "metadata": {},
   "outputs": [],
   "source": [
    "class Perceptron(object):\n",
    "    \"\"\"\n",
    "    Perceptron model 感知机模型\n",
    "    \"\"\"\n",
    "\n",
    "    def fit(self, X, t, max_epoch=100):\n",
    "        \"\"\"\n",
    "        fit perceptron model on given input pair\n",
    "\n",
    "        Parameters\n",
    "        ----------\n",
    "        X : (N, D) np.ndarray\n",
    "            training independent variable\n",
    "        t : (N,)\n",
    "            training dependent variable\n",
    "            binary -1 or 1\n",
    "        max_epoch : int, optional\n",
    "            maximum number of epoch (the default is 100)\n",
    "        \"\"\"\n",
    "        self.w = np.zeros(np.size(X, 1))\n",
    "        for _ in range(max_epoch): # 达到maxIter，退出\n",
    "            X_error = X[np.sign(X @ self.w) != t] # 误分点集合\n",
    "            t_error = t[np.sign(X @ self.w) != t] # sign(w~T,xn~)!=tn 等价于tn*sign(w~T,xn~)<0\n",
    "            idx = np.random.choice(len(X_error))\n",
    "            self.w += X_error[idx] * t_error[idx]\n",
    "            if (X @ self.w * t > 0).all():# 没有误分点，退出\n",
    "                break\n",
    "\n",
    "    def classify(self, X):\n",
    "        \"\"\"\n",
    "        classify input data\n",
    "\n",
    "        Parameters\n",
    "        ----------\n",
    "        X : (N, D) np.ndarray\n",
    "            independent variable to be classified\n",
    "\n",
    "        Returns\n",
    "        -------\n",
    "        (N,) np.ndarray\n",
    "            binary class (-1 or 1) for each input\n",
    "        \"\"\"\n",
    "        return np.sign(X @ self.w).astype(np.int)\n"
   ]
  },
  {
   "cell_type": "code",
   "execution_count": 3,
   "metadata": {},
   "outputs": [],
   "source": [
    "import itertools\n",
    "import functools\n",
    "\n",
    "class PolynomialFeature(object):\n",
    "    \"\"\"Polynomial features\n",
    "\n",
    "    transforms input array with polynomial features\n",
    "\n",
    "    Example 1\n",
    "    =========\n",
    "    x = [a, b]\n",
    "\n",
    "    y = PolynomialFeature(degree=5).transform(x)\n",
    "    y = [[1, a, a^2, a^3, a^4, a^5],\n",
    "         [1, b, b^2, b^3, b^4, b^5]]\n",
    "\n",
    "    Example 1\n",
    "    =========\n",
    "    x = [[a, b],\n",
    "         [c, d]]\n",
    "\n",
    "    y = PolynomialFeature(degree=2).transform(x)\n",
    "    y = [[1, a, b, a^2, a*b, b^2],\n",
    "         [1, c, d, c^2, c*d, d^2]]\n",
    "    \"\"\"\n",
    "    def __init__(self, degree=2):\n",
    "        \"\"\"Construct polynomial features\n",
    "        \n",
    "        Params\n",
    "        ======\n",
    "        degree: int\n",
    "          degree of polynomial\n",
    "        \"\"\"\n",
    "        if not isinstance(degree, int):\n",
    "            raise ValueError(\"degree should be int type\")\n",
    "        self.degree = degree\n",
    "\n",
    "    def transform(self, x):\n",
    "        \"\"\"Transforms input array with polynomial features\n",
    "\n",
    "        Params\n",
    "        ======\n",
    "        x: ndarray with shape (N, D)\n",
    "           input array\n",
    "\n",
    "        Returns\n",
    "        =======\n",
    "        output: ndarray with shape (N, K+1)\n",
    "           polynomial features\n",
    "        \"\"\"\n",
    "        if x.ndim == 1:\n",
    "            x = x[:, None]\n",
    "        x_t = x.transpose()\n",
    "        features = [np.ones(len(x))]\n",
    "        for degree in range(1, self.degree+1):\n",
    "            for items in itertools.combinations_with_replacement(x_t, degree):\n",
    "                features.append(functools.reduce(lambda x, y: x * y, items))\n",
    "        return np.array(features).transpose()"
   ]
  },
  {
   "cell_type": "code",
   "execution_count": 17,
   "metadata": {},
   "outputs": [
    {
     "name": "stdout",
     "output_type": "stream",
     "text": [
      "(50,)\n",
      "(25, 2)\n"
     ]
    }
   ],
   "source": [
    "x = np.random.normal(size=50)\n",
    "print(x.shape)\n",
    "x = x.reshape(-1,2)\n",
    "print(x.shape)"
   ]
  },
  {
   "cell_type": "code",
   "execution_count": 4,
   "metadata": {},
   "outputs": [],
   "source": [
    "def create_toy_data(add_outliers=False, add_class=False):\n",
    "    x0 = np.random.normal(size=50).reshape(-1, 2) - 1.5\n",
    "    x1 = np.random.normal(size=50).reshape(-1, 2) + 1.5\n",
    "    return np.concatenate([x0, x1]), np.concatenate([-np.ones(25), np.ones(25)]).astype(np.int)"
   ]
  },
  {
   "cell_type": "code",
   "execution_count": 5,
   "metadata": {},
   "outputs": [
    {
     "data": {
      "text/plain": [
       "<matplotlib.collections.PathCollection at 0x1693bc959e8>"
      ]
     },
     "execution_count": 5,
     "metadata": {},
     "output_type": "execute_result"
    },
    {
     "data": {
      "image/png": "[encoded data removed]",
      "text/plain": [
       "<Figure size 432x288 with 1 Axes>"
      ]
     },
     "metadata": {
      "needs_background": "light"
     },
     "output_type": "display_data"
    }
   ],
   "source": [
    "x_train, y_train = create_toy_data()\n",
    "plt.scatter(x_train[:, 0], x_train[:, 1], c=y_train)"
   ]
  },
  {
   "cell_type": "code",
   "execution_count": 6,
   "metadata": {},
   "outputs": [],
   "source": [
    "x1, x2 = np.meshgrid(np.linspace(-5, 5, 100), np.linspace(-5, 5, 100)) \n",
    "# 纵轴横轴各生成100个点，合起来生成二维网格点\n",
    "x_test = np.array([x1, x2]).reshape(2, -1).T"
   ]
  },
  {
   "cell_type": "code",
   "execution_count": 7,
   "metadata": {},
   "outputs": [],
   "source": [
    "feature = PolynomialFeature(1)\n",
    "X_train = feature.transform(x_train)\n",
    "X_test = feature.transform(x_test)"
   ]
  },
  {
   "cell_type": "code",
   "execution_count": 8,
   "metadata": {},
   "outputs": [
    {
     "data": {
      "image/png": "[encoded data removed]",
      "text/plain": [
       "<Figure size 432x288 with 1 Axes>"
      ]
     },
     "metadata": {
      "needs_background": "light"
     },
     "output_type": "display_data"
    }
   ],
   "source": [
    "model = Perceptron()\n",
    "model.fit(X_train, y_train)\n",
    "y = model.classify(X_test)\n",
    "\n",
    "plt.scatter(x_train[:, 0], x_train[:, 1], c=y_train)\n",
    "plt.contourf(x1, x2, y.reshape(100, 100), alpha=0.2)#, levels=np.linspace(0, 1, 3))\n",
    "plt.show()"
   ]
  },
  {
   "cell_type": "code",
   "execution_count": null,
   "metadata": {},
   "outputs": [],
   "source": []
  },
  {
   "cell_type": "code",
   "execution_count": null,
   "metadata": {},
   "outputs": [],
   "source": []
  }
 ],
 "metadata": {
  "kernelspec": {
   "display_name": "Python 3",
   "language": "python",
   "name": "python3"
  },
  "language_info": {
   "codemirror_mode": {
    "name": "ipython",
    "version": 3
   },
   "file_extension": ".py",
   "mimetype": "text/x-python",
   "name": "python",
   "nbconvert_exporter": "python",
   "pygments_lexer": "ipython3",
   "version": "3.7.2"
  }
 },
 "nbformat": 4,
 "nbformat_minor": 2
}
