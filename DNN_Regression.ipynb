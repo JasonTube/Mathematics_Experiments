{
 "cells": [
  {
   "cell_type": "markdown",
   "metadata": {},
   "source": [
    "# DNN 回归"
   ]
  },
  {
   "cell_type": "code",
   "execution_count": 1,
   "metadata": {},
   "outputs": [],
   "source": [
    "import numpy as np\n",
    "import matplotlib.pyplot as plt\n",
    "import torch\n",
    "import torch.nn as nn\n",
    "import torch.nn.functional as F\n",
    "import torch.optim as optim\n",
    "from torch.optim.lr_scheduler import StepLR\n",
    "from torch.utils.data import Dataset, DataLoader"
   ]
  },
  {
   "cell_type": "markdown",
   "metadata": {},
   "source": [
    "## 数据集准备"
   ]
  },
  {
   "cell_type": "code",
   "execution_count": 2,
   "metadata": {},
   "outputs": [],
   "source": [
    "def create_toy_data(f, sample_size, std=0.25, noise=True):\n",
    "    x = np.linspace(0, 1, sample_size)\n",
    "    if noise:\n",
    "        y = f(x) + np.random.normal(scale=std, size=x.shape)\n",
    "    else:\n",
    "        y = f(x)            \n",
    "    return x, y"
   ]
  },
  {
   "cell_type": "code",
   "execution_count": 3,
   "metadata": {},
   "outputs": [],
   "source": [
    "def f(x):\n",
    "    return np.sin(2 * np.pi * x)"
   ]
  },
  {
   "cell_type": "code",
   "execution_count": 4,
   "metadata": {},
   "outputs": [
    {
     "name": "stdout",
     "output_type": "stream",
     "text": [
      "(100,)\n"
     ]
    }
   ],
   "source": [
    "x_train, y_train = create_toy_data(f, 100)\n",
    "x_test , y_test  = create_toy_data(f, 50)\n",
    "x_exact, y_exact = create_toy_data(f, 100, noise=False)\n",
    "print(x_train.shape)"
   ]
  },
  {
   "cell_type": "code",
   "execution_count": 61,
   "metadata": {
    "scrolled": true
   },
   "outputs": [
    {
     "data": {
      "image/png": "[encoded data removed]",
      "text/plain": [
       "<Figure size 432x288 with 1 Axes>"
      ]
     },
     "metadata": {
      "needs_background": "light"
     },
     "output_type": "display_data"
    }
   ],
   "source": [
    "plt.scatter(x_train, y_train, facecolor='none', edgecolors='b', s=50, label='training data')\n",
    "plt.plot(x_exact, y_exact, c='g', label='$\\sin(2\\pi x)$')\n",
    "plt.legend()\n",
    "plt.show()"
   ]
  },
  {
   "cell_type": "code",
   "execution_count": 80,
   "metadata": {},
   "outputs": [],
   "source": [
    "class SinDataset(Dataset):\n",
    "    def __init__(self, f, sample_size=1000):\n",
    "        super().__init__()\n",
    "        self.sample_size = sample_size\n",
    "        self.f = f\n",
    "        x, y = create_toy_data(self.f, self.sample_size)\n",
    "        self.x = torch.from_numpy(x).unsqueeze(dim=-1).float()\n",
    "        self.y = torch.from_numpy(y).unsqueeze(dim=-1).float()\n",
    "        \n",
    "    def __len__(self):\n",
    "        return self.sample_size\n",
    "    \n",
    "    def __getitem__(self, index):        \n",
    "        sample = {'x': self.x[index], 'y': self.y[index]}\n",
    "        return sample\n",
    "        "
   ]
  },
  {
   "cell_type": "code",
   "execution_count": 93,
   "metadata": {},
   "outputs": [
    {
     "name": "stdout",
     "output_type": "stream",
     "text": [
      "0: tensor([[0.0000],\n",
      "        [0.1111],\n",
      "        [0.2222],\n",
      "        [0.3333],\n",
      "        [0.4444],\n",
      "        [0.5556],\n",
      "        [0.6667],\n",
      "        [0.7778],\n",
      "        [0.8889],\n",
      "        [1.0000]]), tensor([[ 1.7011e-01],\n",
      "        [ 7.7012e-01],\n",
      "        [ 8.1443e-01],\n",
      "        [ 1.2015e+00],\n",
      "        [-4.3859e-05],\n",
      "        [-2.3389e-01],\n",
      "        [-6.6141e-01],\n",
      "        [-4.9424e-01],\n",
      "        [-5.9243e-01],\n",
      "        [ 1.5841e-01]])\n"
     ]
    }
   ],
   "source": [
    "dataset = SinDataset(f, sample_size=10)\n",
    "dataloader = DataLoader(dataset, batch_size=10, shuffle=False)\n",
    "for i, sample in enumerate(dataloader):\n",
    "    print(f\"{i}: {sample['x']}, {sample['y']}\")\n"
   ]
  },
  {
   "cell_type": "markdown",
   "metadata": {},
   "source": [
    "## 神经网络模型"
   ]
  },
  {
   "cell_type": "code",
   "execution_count": 99,
   "metadata": {},
   "outputs": [],
   "source": [
    "class SimpleNet(nn.Module):\n",
    "    def __init__(self, layers=[1, 10, 10, 10, 1]):\n",
    "        super().__init__()\n",
    "        self.layers = layers\n",
    "        self.fcs = []\n",
    "        \n",
    "        for i in range(len(layers)-1):\n",
    "            fc = nn.Linear(self.layers[i], self.layers[i+1])\n",
    "            setattr(self, f'fc{i}', fc)\n",
    "            self._init_weights(fc)\n",
    "            self.fcs.append(fc)\n",
    "\n",
    "    def _init_weights(self, layer):\n",
    "        nn.init.xavier_normal_(layer.weight)\n",
    "        nn.init.constant_(layer.bias, 0.01)\n",
    "                    \n",
    "    def forward(self, x):\n",
    "        for i in range(len(self.fcs)-1):\n",
    "            x = self.fcs[i](x)\n",
    "            x = torch.tanh(x)\n",
    "        x = self.fcs[-1](x)\n",
    "        return x"
   ]
  },
  {
   "cell_type": "code",
   "execution_count": 100,
   "metadata": {},
   "outputs": [
    {
     "name": "stdout",
     "output_type": "stream",
     "text": [
      "SimpleNet(\n",
      "  (fc0): Linear(in_features=1, out_features=10, bias=True)\n",
      "  (fc1): Linear(in_features=10, out_features=10, bias=True)\n",
      "  (fc2): Linear(in_features=10, out_features=10, bias=True)\n",
      "  (fc3): Linear(in_features=10, out_features=1, bias=True)\n",
      ")\n"
     ]
    }
   ],
   "source": [
    "layers = [1, 10, 10, 10, 1]\n",
    "model = SimpleNet(layers)\n",
    "print(model)"
   ]
  },
  {
   "cell_type": "markdown",
   "metadata": {},
   "source": [
    "## 训练器"
   ]
  },
  {
   "cell_type": "code",
   "execution_count": 150,
   "metadata": {},
   "outputs": [],
   "source": [
    "class Trainer(object):\n",
    "    def __init__(self, layers=[1, 10, 10, 10, 1]):\n",
    "        self.model = SimpleNet(layers)\n",
    "        self.criterion = nn.MSELoss()\n",
    "        self.optimizer = optim.Adam(self.model.parameters(), lr=1e-3)\n",
    "        self.scheduler = StepLR(self.optimizer, step_size=100, gamma=0.5)\n",
    "        \n",
    "        self.trainset = SinDataset(f, sample_size=1000)\n",
    "        self.trainloader = DataLoader(self.trainset, batch_size=100, shuffle=True)\n",
    "        self.validset = SinDataset(f, sample_size=100)\n",
    "        self.validloader = DataLoader(self.validset, batch_size=100, shuffle=False)\n",
    "        \n",
    "    def train(self):\n",
    "        self.model.train()\n",
    "        best_loss = 1.e10\n",
    "        losses = []\n",
    "        epochs = []\n",
    "        \n",
    "        for epoch in range(50):\n",
    "            for _, sample in enumerate(self.trainloader):   \n",
    "                y_pred = self.model(sample['x'])            \n",
    "                loss = self.criterion(y_pred, sample['y'])\n",
    "                self.optimizer.zero_grad()\n",
    "                loss.backward()\n",
    "                self.optimizer.step()\n",
    "                train_loss = loss.item()\n",
    "            self.scheduler.step()\n",
    "            \n",
    "            epochs.append(epoch)\n",
    "            losses.append(train_loss)\n",
    "            if (epoch+1) % 50 == 0:\n",
    "                valid_loss = self.validate()                \n",
    "                print(f'epoch: {epoch+1}\\ttrain_loss: {train_loss:.4e}\\tvalid_loss: {valid_loss:.4e}\\tlr: {self.scheduler.get_lr()[0]:.2e}')\n",
    "                if valid_loss < best_loss:\n",
    "                    torch.save(self.model.state_dict(), \"net.pth\")\n",
    "        plt.plot(epochs, losses, 'r-')\n",
    "        \n",
    "    def validate(self):\n",
    "        self.model.eval()\n",
    "        for _, sample in enumerate(self.validloader):\n",
    "            y_pred = self.model(sample['x'])  \n",
    "            loss = self.criterion(y_pred, sample['y'])\n",
    "            return loss.item()"
   ]
  },
  {
   "cell_type": "code",
   "execution_count": 151,
   "metadata": {},
   "outputs": [
    {
     "name": "stdout",
     "output_type": "stream",
     "text": [
      "epoch: 50\ttrain_loss: 1.0878e-01\tvalid_loss: 1.2377e-01\tlr: 1.00e-03\n",
      "epoch: 100\ttrain_loss: 5.4257e-02\tvalid_loss: 7.9684e-02\tlr: 5.00e-04\n",
      "epoch: 150\ttrain_loss: 6.0672e-02\tvalid_loss: 6.8225e-02\tlr: 5.00e-04\n",
      "epoch: 200\ttrain_loss: 6.4052e-02\tvalid_loss: 6.1229e-02\tlr: 2.50e-04\n",
      "epoch: 250\ttrain_loss: 7.0237e-02\tvalid_loss: 5.8907e-02\tlr: 2.50e-04\n",
      "epoch: 300\ttrain_loss: 5.3745e-02\tvalid_loss: 5.8023e-02\tlr: 1.25e-04\n",
      "epoch: 350\ttrain_loss: 5.0696e-02\tvalid_loss: 5.7654e-02\tlr: 1.25e-04\n",
      "epoch: 400\ttrain_loss: 6.3105e-02\tvalid_loss: 5.7433e-02\tlr: 6.25e-05\n",
      "epoch: 450\ttrain_loss: 5.1472e-02\tvalid_loss: 5.7388e-02\tlr: 6.25e-05\n",
      "epoch: 500\ttrain_loss: 5.2625e-02\tvalid_loss: 5.7312e-02\tlr: 3.13e-05\n",
      "epoch: 550\ttrain_loss: 6.2503e-02\tvalid_loss: 5.7239e-02\tlr: 3.13e-05\n",
      "epoch: 600\ttrain_loss: 6.3763e-02\tvalid_loss: 5.7203e-02\tlr: 1.56e-05\n",
      "epoch: 650\ttrain_loss: 5.8681e-02\tvalid_loss: 5.7176e-02\tlr: 1.56e-05\n",
      "epoch: 700\ttrain_loss: 6.6562e-02\tvalid_loss: 5.7164e-02\tlr: 7.81e-06\n",
      "epoch: 750\ttrain_loss: 6.6974e-02\tvalid_loss: 5.7170e-02\tlr: 7.81e-06\n",
      "epoch: 800\ttrain_loss: 5.4447e-02\tvalid_loss: 5.7161e-02\tlr: 3.91e-06\n",
      "epoch: 850\ttrain_loss: 6.2559e-02\tvalid_loss: 5.7155e-02\tlr: 3.91e-06\n",
      "epoch: 900\ttrain_loss: 6.3622e-02\tvalid_loss: 5.7149e-02\tlr: 1.95e-06\n",
      "epoch: 950\ttrain_loss: 5.5967e-02\tvalid_loss: 5.7149e-02\tlr: 1.95e-06\n",
      "epoch: 1000\ttrain_loss: 6.3776e-02\tvalid_loss: 5.7148e-02\tlr: 9.77e-07\n"
     ]
    },
    {
     "data": {
      "image/png": "[encoded data removed]",
      "text/plain": [
       "<Figure size 432x288 with 1 Axes>"
      ]
     },
     "metadata": {
      "needs_background": "light"
     },
     "output_type": "display_data"
    }
   ],
   "source": [
    "trainer = Trainer()\n",
    "trainer.train()"
   ]
  },
  {
   "cell_type": "markdown",
   "metadata": {},
   "source": [
    "## 测试器"
   ]
  },
  {
   "cell_type": "code",
   "execution_count": 128,
   "metadata": {},
   "outputs": [],
   "source": [
    "class Tester(object):\n",
    "    def __init__(self, layers=[1, 10, 10, 10, 1]):\n",
    "        self.model = SimpleNet(layers)\n",
    "        self.criterion = nn.MSELoss()\n",
    "        self.testset = SinDataset(f, sample_size=100)\n",
    "        self.testloader = DataLoader(self.testset, batch_size=100, shuffle=False)\n",
    "        \n",
    "    def test(self, model_path='net.pth'):\n",
    "        # load model parameters\n",
    "        model_params = torch.load(model_path)\n",
    "        self.model.load_state_dict(model_params)\n",
    "        \n",
    "        self.model.eval()\n",
    "        for _, sample in enumerate(self.testloader):\n",
    "            y_pred = self.model(sample['x'])\n",
    "            plt.scatter(sample['x'].numpy(), sample['y'].numpy(), fc='b', label='noise data')\n",
    "            plt.plot(sample['x'].numpy(), y_pred.detach().numpy(), c='r', label='prediction')"
   ]
  },
  {
   "cell_type": "code",
   "execution_count": 129,
   "metadata": {},
   "outputs": [
    {
     "data": {
      "image/png": "[encoded data removed]",
      "text/plain": [
       "<Figure size 432x288 with 1 Axes>"
      ]
     },
     "metadata": {
      "needs_background": "light"
     },
     "output_type": "display_data"
    }
   ],
   "source": [
    "tester = Tester()\n",
    "tester.test()"
   ]
  }
 ],
 "metadata": {
  "kernelspec": {
   "display_name": "Python 3",
   "language": "python",
   "name": "python3"
  },
  "language_info": {
   "codemirror_mode": {
    "name": "ipython",
    "version": 3
   },
   "file_extension": ".py",
   "mimetype": "text/x-python",
   "name": "python",
   "nbconvert_exporter": "python",
   "pygments_lexer": "ipython3",
   "version": "3.7.2"
  }
 },
 "nbformat": 4,
 "nbformat_minor": 2
}
